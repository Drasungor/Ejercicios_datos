{
 "cells": [
  {
   "cell_type": "code",
   "execution_count": 1,
   "metadata": {},
   "outputs": [],
   "source": [
    "import pandas as pd\n",
    "from pyspark.sql import *"
   ]
  },
  {
   "cell_type": "code",
   "execution_count": 2,
   "metadata": {},
   "outputs": [],
   "source": [
    "spark = SparkSession.builder.getOrCreate()\n",
    "sc = spark.sparkContext\n",
    "sqlc = SQLContext(sc)\n",
    "vuelos_programados = sqlc.read.csv(\"vuelos_programados.csv\").rdd.\\\n",
    "         map(lambda x:(pd.to_numeric(x[0], \"coerce\"), x[1], x[2], x[3], pd.to_datetime(x[4]+\" \"+x[5],\"coerce\"), \\\n",
    "         pd.to_datetime(x[6]+\" \"+x[7],\"coerce\"))).cache()\n",
    "estado_vuelos = sqlc.read.csv(\"estado_de_vuelos.csv\").rdd.\\\n",
    "         map(lambda x:(pd.to_numeric(x[0], \"coerce\"), x[1], pd.to_datetime(x[2]+\" \"+x[3],\"coerce\"), \\\n",
    "         pd.to_datetime(x[4]+\" \"+x[5],\"coerce\"), x[6])).cache()\n",
    "\n",
    "#Quedan como:\n",
    "#vuelos_programados: (número de vuelo, código de aerolínea, código de aeropuerto de salida, \n",
    "                    #código de aeropuerto de llegada, fecha y hora de salida, fecha y hora de llegada)\n",
    "#estado_vuelos: (número de vuelo, aerolínea, fecha y hora de salida, fecha y hora de llegada, estado)"
   ]
  },
  {
   "cell_type": "code",
   "execution_count": 3,
   "metadata": {},
   "outputs": [
    {
     "data": {
      "text/plain": [
       "('PRKT', 421)"
      ]
     },
     "execution_count": 3,
     "metadata": {},
     "output_type": "execute_result"
    }
   ],
   "source": [
    "#A: Cuál es el aeropuerto con mayor tránsito.\n",
    "def func(x):\n",
    "    cantidad_total = 0\n",
    "    if x[1][0] == None:\n",
    "        cantidad_total = x[1][1]\n",
    "    elif x[1][1] == None:\n",
    "        cantidad_total = x[1][0]\n",
    "    else:\n",
    "        cantidad_total = x[1][0]+x[1][1]\n",
    "    return (x[0], cantidad_total)\n",
    "    \n",
    "aeropuertos_salida = vuelos_programados.map(lambda x: (x[2],1)).\\\n",
    "            reduceByKey(lambda x,y:x+y)#(salida,cant_apariciones)\n",
    "aeropuertos_llegada = vuelos_programados.map(lambda x: (x[3],1)).\\\n",
    "            reduceByKey(lambda x,y:x+y)#(entrada,cant_apariciones)\n",
    "vuelos_por_aeropuerto = aeropuertos_salida.\\\n",
    "            fullOuterJoin(aeropuertos_llegada).map(func)#(aeropuerto,apariciones)\n",
    "vuelos_por_aeropuerto.reduce(lambda x,y: x if x[1]>y[1] else y)"
   ]
  },
  {
   "cell_type": "code",
   "execution_count": 4,
   "metadata": {},
   "outputs": [
    {
     "data": {
      "text/plain": [
       "('JA', 212)"
      ]
     },
     "execution_count": 4,
     "metadata": {},
     "output_type": "execute_result"
    }
   ],
   "source": [
    "#B: Cuál es la aerolínea con mayor cantidad de vuelos.\n",
    "vuelos_programados.map(lambda x:(x[1],1)).reduceByKey(lambda x,y:x+y).reduce(lambda x,y:x if x>y else y)"
   ]
  },
  {
   "cell_type": "code",
   "execution_count": 5,
   "metadata": {},
   "outputs": [
    {
     "data": {
      "text/plain": [
       "('JA', 72)"
      ]
     },
     "execution_count": 5,
     "metadata": {},
     "output_type": "execute_result"
    }
   ],
   "source": [
    "#C: Cuál es la aerolínea con mayor cantidad de cancelaciones\n",
    "estado_vuelos.filter(lambda x:x[4]==\"cancelado\").map(lambda x: (x[1], 1)).reduceByKey(lambda x,y:x+y).\\\n",
    "        reduce(lambda x,y:x if x>y else y)"
   ]
  },
  {
   "cell_type": "code",
   "execution_count": 6,
   "metadata": {},
   "outputs": [
    {
     "data": {
      "text/plain": [
       "(284, (Timestamp('2019-07-02 01:01:26'), Timestamp('2019-07-02 23:02:16')))"
      ]
     },
     "execution_count": 6,
     "metadata": {},
     "output_type": "execute_result"
    }
   ],
   "source": [
    "#D: Cuál es el vuelo (numero de vuelo + fecha) con mayor retraso en el horario de salida\n",
    "vuelos_terminados = estado_vuelos.filter(lambda x: x[4]==\"activo\").cache()\n",
    "vuelo_con_salida = vuelos_terminados.map(lambda x:(x[0], x[2]))#(vuelo,hora de salida)\n",
    "vuelos_programados_fecha_salida = vuelos_programados.map(lambda x:(x[0], x[4]))#(vuelo, hora programada de salida)\n",
    "horarios_vuelos = vuelos_programados_fecha_salida.\\\n",
    "        rightOuterJoin(vuelo_con_salida)#(vuelo,(hora programada, hora real))\n",
    "horarios_vuelos.reduce(lambda x,y: x if ((x[1][1]-x[1][0])>(y[1][1]-y[1][0])) else y)"
   ]
  },
  {
   "cell_type": "code",
   "execution_count": 7,
   "metadata": {},
   "outputs": [
    {
     "data": {
      "text/plain": [
       "(276, (Timestamp('2019-07-07 00:09:18'), Timestamp('2019-07-07 23:12:39')))"
      ]
     },
     "execution_count": 7,
     "metadata": {},
     "output_type": "execute_result"
    }
   ],
   "source": [
    "#E: Cuál es el vuelo (numero de vuelo + fecha) con mayor retraso en el horario de llegada\n",
    "vuelo_con_llegada = vuelos_terminados.map(lambda x: (x[0], x[3]))#(vuelo,hora de llegada)\n",
    "vuelos_programados_fecha_llegada = vuelos_programados.\\\n",
    "        map(lambda x:(x[0], x[5]))#(vuelo, hora programada de llegada)\n",
    "horarios = vuelos_programados_fecha_llegada.rightOuterJoin(vuelo_con_llegada)#(vuelo,(llegada programada, llegada real))\n",
    "horarios.reduce(lambda x,y: x if ((x[1][1]-x[1][0])>(y[1][1]-y[1][0])) else y)"
   ]
  },
  {
   "cell_type": "code",
   "execution_count": 24,
   "metadata": {
    "scrolled": true
   },
   "outputs": [
    {
     "data": {
      "text/plain": [
       "(27, 481.0)"
      ]
     },
     "execution_count": 24,
     "metadata": {},
     "output_type": "execute_result"
    }
   ],
   "source": [
    "#F: Cuál es la aerolínea más puntual\n",
    "vuelos_reales = vuelos_terminados.map(lambda x: (x[0],(x[2],x[3])))#(vuelo, (salida real,llegada real))\n",
    "vuelos_planeados = vuelos_programados.map(lambda x: (x[0], (x[4],x[5])))#(vuelo, (salida planeada,llegada planeada))\n",
    "vuelos_con_horarios = vuelos_planeados.\\\n",
    "        rightOuterJoin(vuelos_reales)#(vuelo,((salida planeada,llegada planeada),(salida real,llegada real)))\n",
    "vuelos_con_dif_total = vuelos_con_horarios.\\\n",
    "        map(lambda x:(x[0], __builtin__.abs((x[1][1][1]-x[1][0][1]).total_seconds())+\\\n",
    "            __builtin__.abs((x[1][1][0]-x[1][0][0]).total_seconds()))).cache()#(vuelo, abs(lr-lp)+abs(sr-sp) en segs)\n",
    "vuelos_con_dif_total.reduce(lambda x,y:x if x[1]<y[1] else y)"
   ]
  },
  {
   "cell_type": "code",
   "execution_count": 25,
   "metadata": {},
   "outputs": [
    {
     "data": {
      "text/plain": [
       "(151, 140357.0)"
      ]
     },
     "execution_count": 25,
     "metadata": {},
     "output_type": "execute_result"
    }
   ],
   "source": [
    "#G: Cuál es el aeropuerto que registra mayor desviación con respecto a los horarios coordinados.\n",
    "vuelos_con_dif_total.reduce(lambda x,y:x if x[1]>y[1] else y)"
   ]
  },
  {
   "cell_type": "code",
   "execution_count": null,
   "metadata": {},
   "outputs": [],
   "source": []
  }
 ],
 "metadata": {
  "kernelspec": {
   "display_name": "Python 3",
   "language": "python",
   "name": "python3"
  },
  "language_info": {
   "codemirror_mode": {
    "name": "ipython",
    "version": 3
   },
   "file_extension": ".py",
   "mimetype": "text/x-python",
   "name": "python",
   "nbconvert_exporter": "python",
   "pygments_lexer": "ipython3",
   "version": "3.8.3"
  }
 },
 "nbformat": 4,
 "nbformat_minor": 4
}
