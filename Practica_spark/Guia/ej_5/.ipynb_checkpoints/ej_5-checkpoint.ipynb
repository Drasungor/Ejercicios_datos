{
 "cells": [
  {
   "cell_type": "code",
   "execution_count": 6,
   "metadata": {},
   "outputs": [],
   "source": [
    "import pandas as pd\n",
    "from pyspark.sql import *"
   ]
  },
  {
   "cell_type": "code",
   "execution_count": 9,
   "metadata": {},
   "outputs": [],
   "source": [
    "#Se tiene un RDD con libros en donde cada registro es un texto. Se pide obtener todos los anagramas de mas \n",
    "#de 7 letras que puedan encontrarse. El formato de salida debe ser una lista de listas en donde cada lista \n",
    "#tiene un conjunto de palabras que son anagramas. \n",
    "#Ejemplo: [[discounter,introduces,reductions],[percussion,supersonic]...]\n",
    "\n",
    "spark = SparkSession.builder.getOrCreate()\n",
    "sc = spark.sparkContext\n",
    "\n",
    "textos = ['introduces', 'supersonic', 'percussion', 'reductions', 'discounter']\n",
    "textos = sc.parallelize(textos)"
   ]
  },
  {
   "cell_type": "code",
   "execution_count": 22,
   "metadata": {},
   "outputs": [
    {
     "data": {
      "text/plain": [
       "[['supersonic', 'percussion'], ['introduces', 'reductions', 'discounter']]"
      ]
     },
     "execution_count": 22,
     "metadata": {},
     "output_type": "execute_result"
    }
   ],
   "source": [
    "#\"\".join es para que se convierta en un stringm sino funciona mal el groupByKey\n",
    "palabras_por_anagrama = textos.map(lambda x:(\"\".join(sorted(x)),x))\n",
    "palabras_por_anagrama.groupByKey().map(lambda x: list(x[1])).collect()"
   ]
  },
  {
   "cell_type": "code",
   "execution_count": null,
   "metadata": {},
   "outputs": [],
   "source": []
  }
 ],
 "metadata": {
  "kernelspec": {
   "display_name": "Python 3",
   "language": "python",
   "name": "python3"
  },
  "language_info": {
   "codemirror_mode": {
    "name": "ipython",
    "version": 3
   },
   "file_extension": ".py",
   "mimetype": "text/x-python",
   "name": "python",
   "nbconvert_exporter": "python",
   "pygments_lexer": "ipython3",
   "version": "3.8.3"
  }
 },
 "nbformat": 4,
 "nbformat_minor": 4
}
