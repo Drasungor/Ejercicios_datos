{
 "cells": [
  {
   "cell_type": "code",
   "execution_count": 1,
   "metadata": {},
   "outputs": [],
   "source": [
    "import pandas as pd\n",
    "import datetime as dt"
   ]
  },
  {
   "cell_type": "code",
   "execution_count": 2,
   "metadata": {},
   "outputs": [],
   "source": [
    "eventos = pd.read_csv(\"Eventos.csv\")\n",
    "categorias = pd.read_csv(\"Categorias_deportivas.csv\")\n",
    "locaciones = pd.read_csv(\"Locacion.csv\")\n",
    "eventos[\"fecha\"] = pd.to_datetime(eventos[\"fecha\"], errors=\"coerce\")"
   ]
  },
  {
   "cell_type": "code",
   "execution_count": 7,
   "metadata": {},
   "outputs": [
    {
     "data": {
      "text/html": [
       "<div>\n",
       "<style scoped>\n",
       "    .dataframe tbody tr th:only-of-type {\n",
       "        vertical-align: middle;\n",
       "    }\n",
       "\n",
       "    .dataframe tbody tr th {\n",
       "        vertical-align: top;\n",
       "    }\n",
       "\n",
       "    .dataframe thead th {\n",
       "        text-align: right;\n",
       "    }\n",
       "</style>\n",
       "<table border=\"1\" class=\"dataframe\">\n",
       "  <thead>\n",
       "    <tr style=\"text-align: right;\">\n",
       "      <th></th>\n",
       "      <th>espectadores_por_sede</th>\n",
       "    </tr>\n",
       "    <tr>\n",
       "      <th>sede</th>\n",
       "      <th></th>\n",
       "    </tr>\n",
       "  </thead>\n",
       "  <tbody>\n",
       "    <tr>\n",
       "      <th>Parque Olímpico</th>\n",
       "      <td>19411</td>\n",
       "    </tr>\n",
       "  </tbody>\n",
       "</table>\n",
       "</div>"
      ],
      "text/plain": [
       "                 espectadores_por_sede\n",
       "sede                                  \n",
       "Parque Olímpico                  19411"
      ]
     },
     "execution_count": 7,
     "metadata": {},
     "output_type": "execute_result"
    }
   ],
   "source": [
    "#A\n",
    "eventos_octubre = eventos[(eventos[\"fecha\"].dt.month == 10)&((eventos[\"fecha\"].dt.day==14)|\\\n",
    "                                                             (eventos[\"fecha\"].dt.day==15))]\n",
    "eventos_octubre_espectadores_por_sede = eventos_octubre.groupby(\"id_locacion\").\\\n",
    "                                                        agg({\"cantidad_espectadores\":\"sum\"})\n",
    "eventos_octubre_espectadores_por_sede.columns=[\"espectadores_por_locacion\"]\n",
    "merge_espectadores_eventos_y_sedes = eventos_octubre_espectadores_por_sede.\\\n",
    "                        merge(locaciones, how=\"inner\", on=\"id_locacion\")\n",
    "merge_espectadores_eventos_y_sedes = merge_espectadores_eventos_y_sedes.groupby(\"sede\").\\\n",
    "    agg({\"espectadores_por_locacion\":\"sum\"})\n",
    "merge_espectadores_eventos_y_sedes.columns=[\"espectadores_por_sede\"]\n",
    "merge_espectadores_eventos_y_sedes.nlargest(1,\"espectadores_por_sede\",\"all\")"
   ]
  },
  {
   "cell_type": "code",
   "execution_count": 16,
   "metadata": {},
   "outputs": [
    {
     "data": {
      "text/html": [
       "<div>\n",
       "<style scoped>\n",
       "    .dataframe tbody tr th:only-of-type {\n",
       "        vertical-align: middle;\n",
       "    }\n",
       "\n",
       "    .dataframe tbody tr th {\n",
       "        vertical-align: top;\n",
       "    }\n",
       "\n",
       "    .dataframe thead th {\n",
       "        text-align: right;\n",
       "    }\n",
       "</style>\n",
       "<table border=\"1\" class=\"dataframe\">\n",
       "  <thead>\n",
       "    <tr style=\"text-align: right;\">\n",
       "      <th></th>\n",
       "      <th>nombre_evento</th>\n",
       "      <th>nombre_categoria</th>\n",
       "    </tr>\n",
       "  </thead>\n",
       "  <tbody>\n",
       "    <tr>\n",
       "      <th>0</th>\n",
       "      <td>basquet</td>\n",
       "      <td>deportes de balón</td>\n",
       "    </tr>\n",
       "    <tr>\n",
       "      <th>1</th>\n",
       "      <td>futsal</td>\n",
       "      <td>deportes de balón</td>\n",
       "    </tr>\n",
       "    <tr>\n",
       "      <th>2</th>\n",
       "      <td>ping pong</td>\n",
       "      <td>deportes de balón</td>\n",
       "    </tr>\n",
       "    <tr>\n",
       "      <th>3</th>\n",
       "      <td>voley</td>\n",
       "      <td>deportes de balón</td>\n",
       "    </tr>\n",
       "  </tbody>\n",
       "</table>\n",
       "</div>"
      ],
      "text/plain": [
       "  nombre_evento   nombre_categoria\n",
       "0       basquet  deportes de balón\n",
       "1        futsal  deportes de balón\n",
       "2     ping pong  deportes de balón\n",
       "3         voley  deportes de balón"
      ]
     },
     "execution_count": 16,
     "metadata": {},
     "output_type": "execute_result"
    }
   ],
   "source": [
    "#B\n",
    "eventos_con_capacidad = eventos.merge(locaciones, on=\"id_locacion\", how=\"inner\")\n",
    "eventos_con_capacidad.rename(columns={\"nombre\":\"nombre_locacion\"}, inplace=True)\n",
    "eventos_con_capacidad_superada = eventos_con_capacidad\\\n",
    "        [eventos_con_capacidad[\"cantidad_espectadores\"] > eventos_con_capacidad[\"capacidad_extendida\"]]\n",
    "eventos_con_capacidad_superada = eventos_con_capacidad_superada.\\\n",
    "                                merge(categorias, on=\"id_categoria_deportiva\", how=\"inner\")\n",
    "eventos_con_capacidad_superada.rename(columns={\"nombre\":\"nombre_categoria\"}, inplace=True)\n",
    "eventos_con_capacidad_superada = eventos_con_capacidad_superada[[\"nombre_evento\", \"nombre_categoria\"]]\n",
    "eventos_con_capacidad_superada"
   ]
  },
  {
   "cell_type": "code",
   "execution_count": null,
   "metadata": {},
   "outputs": [],
   "source": []
  }
 ],
 "metadata": {
  "kernelspec": {
   "display_name": "Python 3",
   "language": "python",
   "name": "python3"
  },
  "language_info": {
   "codemirror_mode": {
    "name": "ipython",
    "version": 3
   },
   "file_extension": ".py",
   "mimetype": "text/x-python",
   "name": "python",
   "nbconvert_exporter": "python",
   "pygments_lexer": "ipython3",
   "version": "3.8.3"
  }
 },
 "nbformat": 4,
 "nbformat_minor": 4
}
