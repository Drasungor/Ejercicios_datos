{
 "cells": [
  {
   "cell_type": "code",
   "execution_count": null,
   "metadata": {},
   "outputs": [],
   "source": [
    "import pandas as pd"
   ]
  },
  {
   "cell_type": "code",
   "execution_count": null,
   "metadata": {
    "scrolled": true
   },
   "outputs": [],
   "source": [
    "eventos = pd.read_csv(\"events.csv\")"
   ]
  },
  {
   "cell_type": "code",
   "execution_count": null,
   "metadata": {},
   "outputs": [],
   "source": [
    "#A\n",
    "\n",
    "#Saco las sesiones duplicadas ya que no se repiten entre usuarios y una sesion puede tener mas de un evento\n",
    "sesiones_no_duplicadas = eventos[[\"uid\", \"sessionid\"]].drop_duplicates(subset=[\"sessionid\"])\n",
    "\n",
    "#Cuento la cantidad de sesiones que tiene cada usuario\n",
    "sesiones_por_usuario = sesiones_no_duplicadas.groupby(\"uid\").agg({\"sessionid\":\"count\"})\n",
    "sesiones_por_usuario.columns = [\"sesiones por usuario\"]\n",
    "\n",
    "#Calculo el promedio de sesiones por usuario\n",
    "promedio_sesiones = sesiones_por_usuario[\"sesiones por usuario\"].mean()\n",
    "\n",
    "#Imprimo los usuarios que tienen una mayor cantidad de sesiones que el promedio, junto con las sesiones que tienen\n",
    "sesiones_por_usuario[sesiones_por_usuario[\"sesiones por usuario\"] > promedio_sesiones]"
   ]
  },
  {
   "cell_type": "code",
   "execution_count": null,
   "metadata": {},
   "outputs": [],
   "source": [
    "#B\n",
    "\n",
    "#Al igual que antes, filtro las \n",
    "sesiones_no_duplicadas = eventos.drop_duplicates(subset=[\"sessionid\"])\n",
    "sesiones_no_duplicadas[\"sesiones_totales\"] = sesiones_no_duplicadas.groupby(\"uid\")[\"sessionid\"].transform(\"count\")\n",
    "\n",
    "#Filtro con el requerimiento pedido\n",
    "usuarios_mas_de_25 = sesiones_no_duplicadas[sesiones_no_duplicadas[\"sesiones_totales\"]>25][[\"uid\"]]\n",
    "\n",
    "#Me quedo con todas las acciones de los usuarios con mas de 25 sesiones\n",
    "usuarios_mas_de_25 = eventos[[\"uid\", \"event\", \"value\"]].merge(usuarios_mas_de_25[\"uid\"], on=\"uid\", how=\"inner\")\n",
    "\n",
    "#Filtro quedandome solo los users que realizaron los eventos pedidos\n",
    "usuarios_mas_de_25_eventos_filtrados = usuarios_mas_de_25[usuarios_mas_de_25[\"event\"].isin([\"ecommerce.view-product\", \"ecommerce.checkout\", \"ecommerce.conversion\"])]\n",
    "\n",
    "#Hago un pivote para generar la tabla pedida, no pongo aggfunc porque es \n",
    "#por default el promedio\n",
    "tabla_final = pd.pivot_table(usuarios_mas_de_25_eventos_filtrados, index=\"uid\", columns = \"event\", values=\"value\")\n",
    "\n",
    "#Borro el titulo de las columnas\n",
    "tabla_final= tabla_final.rename_axis(columns=None)\n",
    "\n",
    "#Agrego mean a las columnas\n",
    "tabla_final.columns = tabla_final.columns + \"_mean\"\n",
    "\n",
    "#Dejo uid como columna, deja de ser indice\n",
    "tabla_final.reset_index(inplace=True)\n",
    "\n",
    "#Dejo el dataframe con el orden de columnas que pide le enunciado\n",
    "tabla_final= tabla_final[[\"uid\", \"ecommerce.view-product_mean\", \"ecommerce.checkout_mean\", \"ecommerce.conversion_mean\"]]\n",
    "tabla_final"
   ]
  },
  {
   "cell_type": "code",
   "execution_count": null,
   "metadata": {},
   "outputs": [],
   "source": []
  }
 ],
 "metadata": {
  "kernelspec": {
   "display_name": "Python 3",
   "language": "python",
   "name": "python3"
  },
  "language_info": {
   "codemirror_mode": {
    "name": "ipython",
    "version": 3
   },
   "file_extension": ".py",
   "mimetype": "text/x-python",
   "name": "python",
   "nbconvert_exporter": "python",
   "pygments_lexer": "ipython3",
   "version": "3.8.3"
  }
 },
 "nbformat": 4,
 "nbformat_minor": 4
}
