{
 "cells": [
  {
   "cell_type": "code",
   "execution_count": 1,
   "metadata": {},
   "outputs": [],
   "source": [
    "import pandas as pd\n",
    "from pyspark.sql import *"
   ]
  },
  {
   "cell_type": "code",
   "execution_count": 2,
   "metadata": {},
   "outputs": [],
   "source": [
    "spark = SparkSession.builder.getOrCreate()\n",
    "sc = spark.sparkContext\n",
    "sqlc = SQLContext(sc)\n",
    "\n",
    "muertes = sqlc.read.csv(\"muertes.csv\",header=True).rdd\n",
    "muertes = muertes.map(lambda x:(x[0],pd.to_datetime(x[1],\"coerce\"),x[2],x[3],x[4])).cache()\n",
    "proporciones_razas = sqlc.read.csv(\"proporciones_razas.csv\",header=True).rdd\n",
    "proporciones_razas = proporciones_razas.map(lambda x:(x[0],x[1],pd.to_numeric(x[2],\"coerce\"),\\\n",
    "                        pd.to_numeric(x[3],\"coerce\"),pd.to_numeric(x[4],\"coerce\"),pd.to_numeric(x[5],\"coerce\"),\\\n",
    "                        pd.to_numeric(x[6],\"coerce\"))).cache()"
   ]
  },
  {
   "cell_type": "code",
   "execution_count": 3,
   "metadata": {},
   "outputs": [],
   "source": [
    "#muertes: (name, date, race, city, state)\n",
    "#proporciones_razas: (state, city, share_white, share_black, share_native_american, share_asian, share_hispanic)"
   ]
  },
  {
   "cell_type": "code",
   "execution_count": 10,
   "metadata": {},
   "outputs": [
    {
     "data": {
      "text/plain": [
       "('S2', (68, 329))"
      ]
     },
     "execution_count": 10,
     "metadata": {},
     "output_type": "execute_result"
    }
   ],
   "source": [
    "#a) Obtener el estado con mayor porcentaje de muertes de personas de raza negra teniendo en cuenta la \n",
    "#cantidad total de muertes por parte de oficiales en ese estado. (10 pts)\n",
    "\n",
    "muertes_por_estado = muertes.\\\n",
    "        map(lambda x:(x[4],(1 if x[2]==\"Black\" else 0,1)))#(estado,(1 si es negro sino 0,1))\n",
    "muertes_totales_estado = muertes_por_estado.\\\n",
    "            reduceByKey(lambda x,y:(x[0]+y[0],x[1]+y[1]))#(estado,(muertes negras,muertes totales))\n",
    "muertes_totales_estado.reduce(lambda x,y: x if x[1][0]/x[1][1]>y[1][0]/y[1][1] else y)"
   ]
  },
  {
   "cell_type": "code",
   "execution_count": 18,
   "metadata": {},
   "outputs": [
    {
     "data": {
      "text/plain": [
       "[('S3', (17.261904761904763, 67.2)),\n",
       " ('S2', (20.66869300911854, 58.4)),\n",
       " ('S1', (20.0, 53.35))]"
      ]
     },
     "execution_count": 18,
     "metadata": {},
     "output_type": "execute_result"
    }
   ],
   "source": [
    "#b) Obtener los 10 estados con mayor diferencia entre el porcentaje de muertes y el porcentaje de gente \n",
    "#de raza negra en ese estado. Para ello, considerar el porcentaje de raza de un estado como el promedio \n",
    "#de los valores de sus ciudades.  Por ejemplo si en Texas el porcentaje de muertes de personas de raza \n",
    "#negra por parte de la policía es del 36% y el promedio de share_black para Texas es 24% la diferencia es 0.12.\n",
    "\n",
    "porcentaje_negra_estado = proporciones_razas.\\\n",
    "        map(lambda x:(x[0],(x[3],1))).reduceByKey(lambda x,y:(x[0]+y[0],x[1]+y[1])).\\\n",
    "        map(lambda x:(x[0],x[1][0]/x[1][1]))#(estado, porcentaje poblacion negra)\n",
    "\n",
    "muertes_porcentuales = muertes_totales_estado.\\\n",
    "        map(lambda x:(x[0],x[1][0]*100/x[1][1]))#(estado,porcentaje muertes negras)\n",
    "muertes_porcentuales_y_proporcion_poblacion = muertes_porcentuales.\\\n",
    "        join(porcentaje_negra_estado)#(estado,(muertes porcentuales, porcentaje poblacion))\n",
    "muertes_porcentuales_y_proporcion_poblacion.takeOrdered(10,lambda x:-__builtin__.abs(x[1][0]-x[1][1]))"
   ]
  },
  {
   "cell_type": "code",
   "execution_count": null,
   "metadata": {},
   "outputs": [],
   "source": []
  }
 ],
 "metadata": {
  "kernelspec": {
   "display_name": "Python 3",
   "language": "python",
   "name": "python3"
  },
  "language_info": {
   "codemirror_mode": {
    "name": "ipython",
    "version": 3
   },
   "file_extension": ".py",
   "mimetype": "text/x-python",
   "name": "python",
   "nbconvert_exporter": "python",
   "pygments_lexer": "ipython3",
   "version": "3.8.3"
  }
 },
 "nbformat": 4,
 "nbformat_minor": 4
}
