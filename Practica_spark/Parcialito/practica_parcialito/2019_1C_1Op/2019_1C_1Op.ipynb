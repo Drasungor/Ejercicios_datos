{
 "cells": [
  {
   "cell_type": "code",
   "execution_count": 3,
   "metadata": {},
   "outputs": [],
   "source": [
    "import pandas as pd\n",
    "from pyspark.sql import *"
   ]
  },
  {
   "cell_type": "code",
   "execution_count": 6,
   "metadata": {},
   "outputs": [],
   "source": [
    "spark = SparkSession.builder.getOrCreate()\n",
    "sc = spark.sparkContext\n",
    "sqlc = SQLContext(sc)\n",
    "posicion_mediciones = sqlc.read.csv(\"posicion_mediciones.csv\").rdd\n",
    "posicion_mediciones = posicion_mediciones.map(lambda x:(pd.to_numeric(x[0],\"coerce\"),x[1],\\\n",
    "                                    x[2],pd.to_numeric(x[3],\"coerce\"),pd.to_numeric(x[4],\"coerce\"))).cache()\n",
    "mediciones = sqlc.read.csv(\"mediciones.csv\").rdd\n",
    "mediciones = mediciones.map(lambda x:(pd.to_datetime(x[0],\"coerce\"),pd.to_numeric(x[1],\"coerce\"),\\\n",
    "                             pd.to_numeric(x[2],\"coerce\"),pd.to_numeric(x[3],\"coerce\"),\\\n",
    "                             pd.to_numeric(x[4],\"coerce\"),x[5],pd.to_numeric(x[6],\"coerce\"))).cache()"
   ]
  },
  {
   "cell_type": "code",
   "execution_count": 10,
   "metadata": {},
   "outputs": [
    {
     "data": {
      "text/plain": [
       "[(1,\n",
       "  [(1, 21.6),\n",
       "   (2, 22.0),\n",
       "   (3, 15.555555555555555),\n",
       "   (4, 24.5),\n",
       "   (5, 11.333333333333334),\n",
       "   (6, 18.428571428571427),\n",
       "   (7, 28.125),\n",
       "   (8, 21.5),\n",
       "   (9, 17.428571428571427),\n",
       "   (10, 19.90909090909091),\n",
       "   (11, 20.0),\n",
       "   (12, 13.285714285714286)]),\n",
       " (2,\n",
       "  [(1, 15.636363636363637),\n",
       "   (2, 21.7),\n",
       "   (3, 23.9),\n",
       "   (4, 19.363636363636363),\n",
       "   (5, 7.5),\n",
       "   (6, 16.6),\n",
       "   (7, 14.7),\n",
       "   (8, 23.571428571428573),\n",
       "   (9, 18.333333333333332),\n",
       "   (10, 20.1),\n",
       "   (11, 24.555555555555557),\n",
       "   (12, 25.4)]),\n",
       " (5,\n",
       "  [(1, 19.642857142857142),\n",
       "   (2, 21.733333333333334),\n",
       "   (3, 13.166666666666666),\n",
       "   (4, 23.77777777777778),\n",
       "   (5, 26.0),\n",
       "   (6, 27.5),\n",
       "   (7, 16.375),\n",
       "   (8, 25.46153846153846),\n",
       "   (9, 29.4),\n",
       "   (10, 14.454545454545455),\n",
       "   (11, 14.375),\n",
       "   (12, 15.666666666666666)]),\n",
       " (3,\n",
       "  [(1, 24.0),\n",
       "   (2, 28.0),\n",
       "   (3, 14.75),\n",
       "   (4, 22.571428571428573),\n",
       "   (5, 17.1),\n",
       "   (6, 22.0),\n",
       "   (7, 20.6),\n",
       "   (8, 12.375),\n",
       "   (9, 15.9),\n",
       "   (10, 23.857142857142858),\n",
       "   (11, 23.571428571428573),\n",
       "   (12, 18.142857142857142)]),\n",
       " (4,\n",
       "  [(1, 18.444444444444443),\n",
       "   (2, 11.6),\n",
       "   (3, 18.5),\n",
       "   (4, 15.555555555555555),\n",
       "   (5, 25.0),\n",
       "   (6, 20.2),\n",
       "   (7, 15.642857142857142),\n",
       "   (8, 22.454545454545453),\n",
       "   (9, 14.714285714285714),\n",
       "   (10, 19.272727272727273),\n",
       "   (11, 25.25),\n",
       "   (12, 18.4)])]"
      ]
     },
     "execution_count": 10,
     "metadata": {},
     "output_type": "execute_result"
    }
   ],
   "source": [
    "#posicion_mediciones: (ID_BASE,NOMBRE,PCIA, CIUDAD, LAT, LON)\n",
    "#mediciones: (TIMESTAMP,ID_BASE,TEMPERATURA,HUMEDAD,PRESIÓN,DIRECCIÓN VIENTO, VELOCIDAD VIENTO)\n",
    "\n",
    "#COMPLETAR, HACERLO BIEN\n",
    "\n",
    "def hay_dif_30(lista):\n",
    "    \n",
    "\n",
    "mediciones_bs_as = posicion_mediciones.filter(lambda x:x[2]==\"Buenos Aires\").map(lambda x:(x[0],x[1]))#(id,nombre)\n",
    "mediciones_2018 = mediciones.filter(lambda x:x[0].year==2018).\\\n",
    "        map(lambda x:((x[0].month,x[1]),(x[2],1)))#((mes,id_base),(temperatura,1))\n",
    "\n",
    "#falta el join con las de bs as\n",
    "\n",
    "mediciones_2018_promedio_mes = mediciones_2018.reduceByKey(lambda x,y:(x[0]+y[0],x[1]+y[1])).\\\n",
    "        map(lambda x:((x[0][0],x[0][1]),x[1][0]/x[1][1]))#((mes,id base),promedio temp)\n",
    "promedio_base_por_mes = mediciones_2018_promedio_mes.map(lambda x:(x[0][1],[(x[0][0],x[1])])).reduceByKey(lambda x,y:x+y).\\\n",
    "        map(lambda x:(x[0],sorted(x[1])))#(id_base,lista de (mes,promedio temp))"
   ]
  },
  {
   "cell_type": "code",
   "execution_count": null,
   "metadata": {},
   "outputs": [],
   "source": []
  }
 ],
 "metadata": {
  "kernelspec": {
   "display_name": "Python 3",
   "language": "python",
   "name": "python3"
  },
  "language_info": {
   "codemirror_mode": {
    "name": "ipython",
    "version": 3
   },
   "file_extension": ".py",
   "mimetype": "text/x-python",
   "name": "python",
   "nbconvert_exporter": "python",
   "pygments_lexer": "ipython3",
   "version": "3.8.3"
  }
 },
 "nbformat": 4,
 "nbformat_minor": 4
}
