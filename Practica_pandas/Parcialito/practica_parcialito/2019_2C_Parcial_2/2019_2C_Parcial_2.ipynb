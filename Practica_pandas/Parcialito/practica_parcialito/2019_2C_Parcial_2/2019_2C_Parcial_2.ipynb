{
 "cells": [
  {
   "cell_type": "code",
   "execution_count": null,
   "metadata": {},
   "outputs": [],
   "source": [
    "import pandas as pd\n",
    "import datetime as dt"
   ]
  },
  {
   "cell_type": "code",
   "execution_count": null,
   "metadata": {},
   "outputs": [],
   "source": [
    "ventas = pd.read_csv(\"Ventas.csv\")\n",
    "productos = pd.read_csv(\"Productos.csv\")"
   ]
  },
  {
   "cell_type": "code",
   "execution_count": null,
   "metadata": {},
   "outputs": [],
   "source": [
    "#A\n",
    "ventas[\"fecha\"] = pd.to_datetime(ventas[\"fecha\"], errors = \"coerce\")\n",
    "productos_vendidos_2018 = ventas[ventas[\"fecha\"].dt.year==2018]\\\n",
    "            [[\"Código Producto\", \"Cantidad\"]]\n",
    "cantidades_totales_2018 = productos_vendidos_2018.\\\n",
    "            groupby(\"Código Producto\").agg({\"Cantidad\":\"sum\"})\n",
    "cantidades_totales_2018.columns=[\"Cantidad total de producto vendido\"]\n",
    "cantidades_totales_2018 = cantidades_totales_2018.\\\n",
    "        merge(productos[[\"Código Producto\", \"Descripcion\"]], \\\n",
    "        on=\"Código Producto\", how=\"left\")\n",
    "cantidades_totales_2018"
   ]
  },
  {
   "cell_type": "code",
   "execution_count": null,
   "metadata": {},
   "outputs": [],
   "source": [
    "#B\n",
    "ventas_por_producto =ventas.groupby(\"Código Producto\").agg({\"Cantidad\":\"sum\"})\n",
    "ventas_por_producto_y_categoria = productos[[\"Código Producto\", \"Categoria\"]].merge(ventas_por_producto, on = \"Código Producto\", how = \"inner\")\n",
    "ventas_por_producto_y_categoria.set_index(\"Código Producto\", inplace=True)\n",
    "ventas_por_producto_y_categoria.groupby(\"Categoria\")[\"Cantidad\"].nsmallest(3, keep=\"all\")"
   ]
  },
  {
   "cell_type": "code",
   "execution_count": null,
   "metadata": {},
   "outputs": [],
   "source": []
  }
 ],
 "metadata": {
  "kernelspec": {
   "display_name": "Python 3",
   "language": "python",
   "name": "python3"
  },
  "language_info": {
   "codemirror_mode": {
    "name": "ipython",
    "version": 3
   },
   "file_extension": ".py",
   "mimetype": "text/x-python",
   "name": "python",
   "nbconvert_exporter": "python",
   "pygments_lexer": "ipython3",
   "version": "3.8.3"
  }
 },
 "nbformat": 4,
 "nbformat_minor": 4
}
