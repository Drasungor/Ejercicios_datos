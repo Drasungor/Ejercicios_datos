{
 "cells": [
  {
   "cell_type": "code",
   "execution_count": 2,
   "metadata": {},
   "outputs": [],
   "source": [
    "import pandas as pd\n",
    "from pyspark.sql import *"
   ]
  },
  {
   "cell_type": "code",
   "execution_count": 3,
   "metadata": {},
   "outputs": [],
   "source": [
    "spark = SparkSession.builder.getOrCreate()\n",
    "sc = spark.sparkContext\n",
    "\n",
    "rectangles = [(1, 4, 2, 7), (3, 5, -6, 10), (-1, 1, -3, 3)]\n",
    "rect_rdd = sc.parallelize(rectangles)\n",
    "p = (3, 5)"
   ]
  },
  {
   "cell_type": "code",
   "execution_count": 13,
   "metadata": {},
   "outputs": [
    {
     "data": {
      "text/plain": [
       "(1, 4, 2, 7)"
      ]
     },
     "execution_count": 13,
     "metadata": {},
     "output_type": "execute_result"
    }
   ],
   "source": [
    "#Se tiene un RDD con las coordenadas de rectángulos de la forma (x1,x2,y1,y2). Se pide programar en \n",
    "#PySpark un programa que encuentre el rectángulo de superficie mínima que contiene al punto (w,z)\n",
    "\n",
    "#((x1,x2,y1,y2),(x,y))\n",
    "def contiene_al_punto(rect, punto):\n",
    "    return (punto[0]>=rect[0] and punto[0]<=rect[1]) and (punto[1]>=rect[2] and punto[1]<=rect[3])\n",
    "\n",
    "def area(rect):\n",
    "    return (rect[1]-rect[0])*(rect[3]-rect[2])\n",
    "\n",
    "rectangulos_contienen_p = rect_rdd.filter(lambda x: contiene_al_punto(x,p))\n",
    "rectangulos_contienen_p.reduce(lambda x,y: x if area(x) < area(y) else y)"
   ]
  },
  {
   "cell_type": "code",
   "execution_count": null,
   "metadata": {},
   "outputs": [],
   "source": []
  }
 ],
 "metadata": {
  "kernelspec": {
   "display_name": "Python 3",
   "language": "python",
   "name": "python3"
  },
  "language_info": {
   "codemirror_mode": {
    "name": "ipython",
    "version": 3
   },
   "file_extension": ".py",
   "mimetype": "text/x-python",
   "name": "python",
   "nbconvert_exporter": "python",
   "pygments_lexer": "ipython3",
   "version": "3.8.3"
  }
 },
 "nbformat": 4,
 "nbformat_minor": 4
}
