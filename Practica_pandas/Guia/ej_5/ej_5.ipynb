{
 "cells": [
  {
   "cell_type": "code",
   "execution_count": 1,
   "metadata": {},
   "outputs": [],
   "source": [
    "import pandas as pd\n",
    "encuestas = pd.read_csv(\"Nacimientos.csv\")\n",
    "informacion_hospitales = pd.read_csv(\"Hospitales.csv\")"
   ]
  },
  {
   "cell_type": "code",
   "execution_count": 2,
   "metadata": {},
   "outputs": [
    {
     "data": {
      "text/plain": [
       "Series([], Name: id_hospital, dtype: int64)"
      ]
     },
     "execution_count": 2,
     "metadata": {},
     "output_type": "execute_result"
    }
   ],
   "source": [
    "#A\n",
    "#dataframes originales:encuestas, informacion_hospitales\n",
    "encuestas_oct_2017 = encuestas[(encuestas[\"anio_nacimiento\"]==2017)&(encuestas[\"mes_nacimiento\"]==10)]\n",
    "nacimientos_por_hospital = encuestas_oct_2017[\"id_hospital\"].value_counts().to_frame()\n",
    "nacimientos_por_hospital.columns = [\"nacimientos_totales\"]\n",
    "nacimientos_por_hospital.index.name = \"id_hospital\"\n",
    "hospitales_comparados = nacimientos_por_hospital.merge(informacion_hospitales, how=\"inner\", on=\"id_hospital\")\n",
    "hospitales_comparados.loc[hospitales_comparados[\"nacimientos_totales\"] > \\\n",
    "                          hospitales_comparados[\"promedio_nacimientos_mensual\"],\"id_hospital\"]"
   ]
  },
  {
   "cell_type": "code",
   "execution_count": 23,
   "metadata": {},
   "outputs": [
    {
     "data": {
      "text/plain": [
       "tipo_parto    True\n",
       "dtype: bool"
      ]
     },
     "execution_count": 23,
     "metadata": {},
     "output_type": "execute_result"
    }
   ],
   "source": [
    "#B\n",
    "\n",
    "def proporcion(x):\n",
    "    return ((x==2).sum()/len(x))\n",
    "\n",
    "encuestas_oct_2017 = encuestas[(encuestas[\"anio_nacimiento\"]==2017)&(encuestas[\"mes_nacimiento\"]==10)]\n",
    "encuestas_oct_2016 = encuestas[(encuestas[\"anio_nacimiento\"]==2016)&(encuestas[\"mes_nacimiento\"]==10)]\n",
    "#encuestas_oct_2017[\"tipo_parto\"].value_counts(normalize=True)[2] > encuestas_oct_2016[\"tipo_parto\"].\n",
    "            #value_counts(normalize=True)[2] <-- Esto rompe porque 2016 no tiene ningun 2, asique no encuentra el indice\n",
    "encuestas_oct_2017.agg({\"tipo_parto\":proporcion}) > encuestas_oct_2016.agg({\"tipo_parto\":proporcion})"
   ]
  },
  {
   "cell_type": "code",
   "execution_count": null,
   "metadata": {},
   "outputs": [],
   "source": []
  }
 ],
 "metadata": {
  "kernelspec": {
   "display_name": "Python 3",
   "language": "python",
   "name": "python3"
  },
  "language_info": {
   "codemirror_mode": {
    "name": "ipython",
    "version": 3
   },
   "file_extension": ".py",
   "mimetype": "text/x-python",
   "name": "python",
   "nbconvert_exporter": "python",
   "pygments_lexer": "ipython3",
   "version": "3.8.3"
  }
 },
 "nbformat": 4,
 "nbformat_minor": 4
}
