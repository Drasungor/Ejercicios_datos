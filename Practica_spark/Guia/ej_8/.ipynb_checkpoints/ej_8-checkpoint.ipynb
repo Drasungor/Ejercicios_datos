{
 "cells": [
  {
   "cell_type": "code",
   "execution_count": 1,
   "metadata": {},
   "outputs": [],
   "source": [
    "import pandas as pd\n",
    "from pyspark.sql import *\n",
    "\n",
    "spark = SparkSession.builder.getOrCreate()\n",
    "sc = spark.sparkContext"
   ]
  },
  {
   "cell_type": "code",
   "execution_count": 4,
   "metadata": {},
   "outputs": [
    {
     "data": {
      "text/plain": [
       "[2,\n",
       " 3,\n",
       " 5,\n",
       " 7,\n",
       " 11,\n",
       " 13,\n",
       " 17,\n",
       " 19,\n",
       " 23,\n",
       " 29,\n",
       " 31,\n",
       " 37,\n",
       " 41,\n",
       " 43,\n",
       " 47,\n",
       " 53,\n",
       " 59,\n",
       " 61,\n",
       " 67,\n",
       " 71,\n",
       " 73,\n",
       " 79,\n",
       " 83,\n",
       " 89,\n",
       " 97]"
      ]
     },
     "execution_count": 4,
     "metadata": {},
     "output_type": "execute_result"
    }
   ],
   "source": [
    "#Contamos con un cluster que tiene 4 computadoras. Queremos aprovechar el paralelismo del cluster para \n",
    "#calcular los números primos entre 2 y 20.000.000. Para esto usaremos el conocido algoritmo de la criba \n",
    "#de Eratóstenes. Por ejemplo si empezamos con una lista de tipo (2,3,4,5,6,7,8...) en un primer paso \n",
    "#eliminamos todos los que son mayores a 2 y divisibles por 2 y nos queda (2,3,5,7,9,11,13…) luego \n",
    "#eliminamos todos los mayores a 3 divisibles por 3 y nos queda (2,3,5,7,11,13….etc) luego todos los \n",
    "#divisibles por 5 y así sucesivamente. El resultado final es una lista de números que son primos. \n",
    "#Programar este programa usando PySpark\n",
    "\n",
    "def closure(i):\n",
    "    return lambda x:(x<=i)or((x%i)!=0)\n",
    "\n",
    "numRange = range(2,100)\n",
    "numeros = sc.parallelize(list(numRange),4)\n",
    "#results = [numeros]\n",
    "\n",
    "for i in numRange:\n",
    "        #results.append(results[len(results)-1].filter(lambda x:(x<=i)or((x%i)!=0)))\n",
    "        numeros = numeros.filter(closure(i))\n",
    "numeros.collect()"
   ]
  },
  {
   "cell_type": "code",
   "execution_count": null,
   "metadata": {},
   "outputs": [],
   "source": []
  }
 ],
 "metadata": {
  "kernelspec": {
   "display_name": "Python 3",
   "language": "python",
   "name": "python3"
  },
  "language_info": {
   "codemirror_mode": {
    "name": "ipython",
    "version": 3
   },
   "file_extension": ".py",
   "mimetype": "text/x-python",
   "name": "python",
   "nbconvert_exporter": "python",
   "pygments_lexer": "ipython3",
   "version": "3.8.3"
  }
 },
 "nbformat": 4,
 "nbformat_minor": 4
}
