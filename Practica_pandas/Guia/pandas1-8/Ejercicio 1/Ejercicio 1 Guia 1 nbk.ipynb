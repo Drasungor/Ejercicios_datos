{
 "cells": [
  {
   "cell_type": "code",
   "execution_count": 2,
   "metadata": {},
   "outputs": [],
   "source": [
    "import datetime as datetime\n",
    "import pandas as pd\n",
    "import numpy as np\n",
    "import matplotlib.pyplot as plt\n",
    "\n",
    "plt.style.use('default')\n",
    "plt.rcParams['figure.figsize'] = (15,5)"
   ]
  },
  {
   "cell_type": "code",
   "execution_count": 3,
   "metadata": {},
   "outputs": [
    {
     "data": {
      "text/html": [
       "<div>\n",
       "<style scoped>\n",
       "    .dataframe tbody tr th:only-of-type {\n",
       "        vertical-align: middle;\n",
       "    }\n",
       "\n",
       "    .dataframe tbody tr th {\n",
       "        vertical-align: top;\n",
       "    }\n",
       "\n",
       "    .dataframe thead th {\n",
       "        text-align: right;\n",
       "    }\n",
       "</style>\n",
       "<table border=\"1\" class=\"dataframe\">\n",
       "  <thead>\n",
       "    <tr style=\"text-align: right;\">\n",
       "      <th></th>\n",
       "      <th>padron</th>\n",
       "      <th>materia</th>\n",
       "      <th>nota</th>\n",
       "      <th>fecha</th>\n",
       "    </tr>\n",
       "  </thead>\n",
       "  <tbody>\n",
       "    <tr>\n",
       "      <th>0</th>\n",
       "      <td>59364</td>\n",
       "      <td>analisis</td>\n",
       "      <td>2</td>\n",
       "      <td>24/8/2018</td>\n",
       "    </tr>\n",
       "    <tr>\n",
       "      <th>1</th>\n",
       "      <td>59364</td>\n",
       "      <td>fisica</td>\n",
       "      <td>4</td>\n",
       "      <td>26/12/2019</td>\n",
       "    </tr>\n",
       "    <tr>\n",
       "      <th>2</th>\n",
       "      <td>59364</td>\n",
       "      <td>algebra</td>\n",
       "      <td>5</td>\n",
       "      <td>7/3/2019</td>\n",
       "    </tr>\n",
       "    <tr>\n",
       "      <th>3</th>\n",
       "      <td>16330</td>\n",
       "      <td>analisis</td>\n",
       "      <td>5</td>\n",
       "      <td>3/5/2019</td>\n",
       "    </tr>\n",
       "    <tr>\n",
       "      <th>4</th>\n",
       "      <td>16330</td>\n",
       "      <td>fisica</td>\n",
       "      <td>9</td>\n",
       "      <td>10/3/2019</td>\n",
       "    </tr>\n",
       "  </tbody>\n",
       "</table>\n",
       "</div>"
      ],
      "text/plain": [
       "   padron   materia  nota       fecha\n",
       "0   59364  analisis     2   24/8/2018\n",
       "1   59364    fisica     4  26/12/2019\n",
       "2   59364   algebra     5    7/3/2019\n",
       "3   16330  analisis     5    3/5/2019\n",
       "4   16330    fisica     9   10/3/2019"
      ]
     },
     "execution_count": 3,
     "metadata": {},
     "output_type": "execute_result"
    }
   ],
   "source": [
    "df = pd.read_csv(\"Ejercicio 1 Guia 1 notas.csv\")\n",
    "df.head()"
   ]
  },
  {
   "cell_type": "code",
   "execution_count": 4,
   "metadata": {},
   "outputs": [
    {
     "data": {
      "text/plain": [
       "padron      int64\n",
       "materia    object\n",
       "nota        int64\n",
       "fecha      object\n",
       "dtype: object"
      ]
     },
     "execution_count": 4,
     "metadata": {},
     "output_type": "execute_result"
    }
   ],
   "source": [
    "#Veo los tipos del df\n",
    "df.dtypes"
   ]
  },
  {
   "cell_type": "code",
   "execution_count": 5,
   "metadata": {},
   "outputs": [
    {
     "data": {
      "text/plain": [
       "padron              int64\n",
       "materia            object\n",
       "nota                int64\n",
       "fecha      datetime64[ns]\n",
       "dtype: object"
      ]
     },
     "execution_count": 5,
     "metadata": {},
     "output_type": "execute_result"
    }
   ],
   "source": [
    "#Cambio las fechas del df a datetime\n",
    "df['fecha'] = pd.to_datetime(df['fecha'])\n",
    "df.dtypes"
   ]
  },
  {
   "cell_type": "code",
   "execution_count": 6,
   "metadata": {},
   "outputs": [],
   "source": [
    "#A: Promedio de notas"
   ]
  },
  {
   "cell_type": "code",
   "execution_count": 7,
   "metadata": {},
   "outputs": [
    {
     "data": {
      "text/plain": [
       "3.611111111111111"
      ]
     },
     "execution_count": 7,
     "metadata": {},
     "output_type": "execute_result"
    }
   ],
   "source": [
    "df['nota'].mean()"
   ]
  },
  {
   "cell_type": "code",
   "execution_count": 8,
   "metadata": {},
   "outputs": [
    {
     "data": {
      "text/html": [
       "<div>\n",
       "<style scoped>\n",
       "    .dataframe tbody tr th:only-of-type {\n",
       "        vertical-align: middle;\n",
       "    }\n",
       "\n",
       "    .dataframe tbody tr th {\n",
       "        vertical-align: top;\n",
       "    }\n",
       "\n",
       "    .dataframe thead th {\n",
       "        text-align: right;\n",
       "    }\n",
       "</style>\n",
       "<table border=\"1\" class=\"dataframe\">\n",
       "  <thead>\n",
       "    <tr style=\"text-align: right;\">\n",
       "      <th></th>\n",
       "      <th>padron</th>\n",
       "      <th>materia</th>\n",
       "      <th>nota</th>\n",
       "      <th>fecha</th>\n",
       "      <th>año</th>\n",
       "      <th>mes</th>\n",
       "    </tr>\n",
       "  </thead>\n",
       "  <tbody>\n",
       "    <tr>\n",
       "      <th>0</th>\n",
       "      <td>59364</td>\n",
       "      <td>analisis</td>\n",
       "      <td>2</td>\n",
       "      <td>2018-08-24</td>\n",
       "      <td>2018</td>\n",
       "      <td>8</td>\n",
       "    </tr>\n",
       "    <tr>\n",
       "      <th>1</th>\n",
       "      <td>59364</td>\n",
       "      <td>fisica</td>\n",
       "      <td>4</td>\n",
       "      <td>2019-12-26</td>\n",
       "      <td>2019</td>\n",
       "      <td>12</td>\n",
       "    </tr>\n",
       "    <tr>\n",
       "      <th>2</th>\n",
       "      <td>59364</td>\n",
       "      <td>algebra</td>\n",
       "      <td>5</td>\n",
       "      <td>2019-07-03</td>\n",
       "      <td>2019</td>\n",
       "      <td>7</td>\n",
       "    </tr>\n",
       "    <tr>\n",
       "      <th>3</th>\n",
       "      <td>16330</td>\n",
       "      <td>analisis</td>\n",
       "      <td>5</td>\n",
       "      <td>2019-03-05</td>\n",
       "      <td>2019</td>\n",
       "      <td>3</td>\n",
       "    </tr>\n",
       "    <tr>\n",
       "      <th>4</th>\n",
       "      <td>16330</td>\n",
       "      <td>fisica</td>\n",
       "      <td>9</td>\n",
       "      <td>2019-10-03</td>\n",
       "      <td>2019</td>\n",
       "      <td>10</td>\n",
       "    </tr>\n",
       "  </tbody>\n",
       "</table>\n",
       "</div>"
      ],
      "text/plain": [
       "   padron   materia  nota      fecha   año  mes\n",
       "0   59364  analisis     2 2018-08-24  2018    8\n",
       "1   59364    fisica     4 2019-12-26  2019   12\n",
       "2   59364   algebra     5 2019-07-03  2019    7\n",
       "3   16330  analisis     5 2019-03-05  2019    3\n",
       "4   16330    fisica     9 2019-10-03  2019   10"
      ]
     },
     "execution_count": 8,
     "metadata": {},
     "output_type": "execute_result"
    }
   ],
   "source": [
    "#B: Nota maxima y minima del 2019\n",
    "#Primero agrego una columna con el año donde se asentó cada nota. Tambien agrego fila de mes, despues sera util.\n",
    "df['año'] = df['fecha'].dt.year\n",
    "df['mes'] = df['fecha'].dt.month\n",
    "df.head()"
   ]
  },
  {
   "cell_type": "code",
   "execution_count": 9,
   "metadata": {},
   "outputs": [
    {
     "data": {
      "text/html": [
       "<div>\n",
       "<style scoped>\n",
       "    .dataframe tbody tr th:only-of-type {\n",
       "        vertical-align: middle;\n",
       "    }\n",
       "\n",
       "    .dataframe tbody tr th {\n",
       "        vertical-align: top;\n",
       "    }\n",
       "\n",
       "    .dataframe thead th {\n",
       "        text-align: right;\n",
       "    }\n",
       "</style>\n",
       "<table border=\"1\" class=\"dataframe\">\n",
       "  <thead>\n",
       "    <tr style=\"text-align: right;\">\n",
       "      <th></th>\n",
       "      <th>padron</th>\n",
       "      <th>materia</th>\n",
       "      <th>nota</th>\n",
       "      <th>fecha</th>\n",
       "      <th>año</th>\n",
       "      <th>mes</th>\n",
       "    </tr>\n",
       "  </thead>\n",
       "  <tbody>\n",
       "    <tr>\n",
       "      <th>1</th>\n",
       "      <td>59364</td>\n",
       "      <td>fisica</td>\n",
       "      <td>4</td>\n",
       "      <td>2019-12-26</td>\n",
       "      <td>2019</td>\n",
       "      <td>12</td>\n",
       "    </tr>\n",
       "    <tr>\n",
       "      <th>2</th>\n",
       "      <td>59364</td>\n",
       "      <td>algebra</td>\n",
       "      <td>5</td>\n",
       "      <td>2019-07-03</td>\n",
       "      <td>2019</td>\n",
       "      <td>7</td>\n",
       "    </tr>\n",
       "    <tr>\n",
       "      <th>3</th>\n",
       "      <td>16330</td>\n",
       "      <td>analisis</td>\n",
       "      <td>5</td>\n",
       "      <td>2019-03-05</td>\n",
       "      <td>2019</td>\n",
       "      <td>3</td>\n",
       "    </tr>\n",
       "    <tr>\n",
       "      <th>4</th>\n",
       "      <td>16330</td>\n",
       "      <td>fisica</td>\n",
       "      <td>9</td>\n",
       "      <td>2019-10-03</td>\n",
       "      <td>2019</td>\n",
       "      <td>10</td>\n",
       "    </tr>\n",
       "    <tr>\n",
       "      <th>5</th>\n",
       "      <td>16330</td>\n",
       "      <td>algebra</td>\n",
       "      <td>5</td>\n",
       "      <td>2019-02-11</td>\n",
       "      <td>2019</td>\n",
       "      <td>2</td>\n",
       "    </tr>\n",
       "    <tr>\n",
       "      <th>9</th>\n",
       "      <td>15761</td>\n",
       "      <td>analisis</td>\n",
       "      <td>2</td>\n",
       "      <td>2019-11-25</td>\n",
       "      <td>2019</td>\n",
       "      <td>11</td>\n",
       "    </tr>\n",
       "    <tr>\n",
       "      <th>10</th>\n",
       "      <td>15761</td>\n",
       "      <td>fisica</td>\n",
       "      <td>2</td>\n",
       "      <td>2019-10-31</td>\n",
       "      <td>2019</td>\n",
       "      <td>10</td>\n",
       "    </tr>\n",
       "    <tr>\n",
       "      <th>14</th>\n",
       "      <td>30217</td>\n",
       "      <td>algebra</td>\n",
       "      <td>4</td>\n",
       "      <td>2019-07-03</td>\n",
       "      <td>2019</td>\n",
       "      <td>7</td>\n",
       "    </tr>\n",
       "    <tr>\n",
       "      <th>15</th>\n",
       "      <td>19469</td>\n",
       "      <td>analisis</td>\n",
       "      <td>7</td>\n",
       "      <td>2019-03-05</td>\n",
       "      <td>2019</td>\n",
       "      <td>3</td>\n",
       "    </tr>\n",
       "    <tr>\n",
       "      <th>16</th>\n",
       "      <td>19469</td>\n",
       "      <td>fisica</td>\n",
       "      <td>2</td>\n",
       "      <td>2019-10-03</td>\n",
       "      <td>2019</td>\n",
       "      <td>10</td>\n",
       "    </tr>\n",
       "    <tr>\n",
       "      <th>17</th>\n",
       "      <td>19469</td>\n",
       "      <td>algebra</td>\n",
       "      <td>2</td>\n",
       "      <td>2019-07-03</td>\n",
       "      <td>2019</td>\n",
       "      <td>7</td>\n",
       "    </tr>\n",
       "  </tbody>\n",
       "</table>\n",
       "</div>"
      ],
      "text/plain": [
       "    padron   materia  nota      fecha   año  mes\n",
       "1    59364    fisica     4 2019-12-26  2019   12\n",
       "2    59364   algebra     5 2019-07-03  2019    7\n",
       "3    16330  analisis     5 2019-03-05  2019    3\n",
       "4    16330    fisica     9 2019-10-03  2019   10\n",
       "5    16330   algebra     5 2019-02-11  2019    2\n",
       "9    15761  analisis     2 2019-11-25  2019   11\n",
       "10   15761    fisica     2 2019-10-31  2019   10\n",
       "14   30217   algebra     4 2019-07-03  2019    7\n",
       "15   19469  analisis     7 2019-03-05  2019    3\n",
       "16   19469    fisica     2 2019-10-03  2019   10\n",
       "17   19469   algebra     2 2019-07-03  2019    7"
      ]
     },
     "execution_count": 9,
     "metadata": {},
     "output_type": "execute_result"
    }
   ],
   "source": [
    "#Me quedo solo con las filas que tienen de año 2019\n",
    "notas2019 = df.loc[df['año'] == 2019,:]\n",
    "notas2019"
   ]
  },
  {
   "cell_type": "code",
   "execution_count": 10,
   "metadata": {},
   "outputs": [
    {
     "data": {
      "text/plain": [
       "9"
      ]
     },
     "execution_count": 10,
     "metadata": {},
     "output_type": "execute_result"
    }
   ],
   "source": [
    "notas2019['nota'].max()"
   ]
  },
  {
   "cell_type": "code",
   "execution_count": 11,
   "metadata": {},
   "outputs": [
    {
     "data": {
      "text/plain": [
       "2"
      ]
     },
     "execution_count": 11,
     "metadata": {},
     "output_type": "execute_result"
    }
   ],
   "source": [
    "notas2019['nota'].min()"
   ]
  },
  {
   "cell_type": "code",
   "execution_count": 12,
   "metadata": {
    "scrolled": true
   },
   "outputs": [
    {
     "data": {
      "text/html": [
       "<div>\n",
       "<style scoped>\n",
       "    .dataframe tbody tr th:only-of-type {\n",
       "        vertical-align: middle;\n",
       "    }\n",
       "\n",
       "    .dataframe tbody tr th {\n",
       "        vertical-align: top;\n",
       "    }\n",
       "\n",
       "    .dataframe thead th {\n",
       "        text-align: right;\n",
       "    }\n",
       "</style>\n",
       "<table border=\"1\" class=\"dataframe\">\n",
       "  <thead>\n",
       "    <tr style=\"text-align: right;\">\n",
       "      <th></th>\n",
       "      <th>padron</th>\n",
       "      <th>materia</th>\n",
       "      <th>nota</th>\n",
       "      <th>fecha</th>\n",
       "      <th>año</th>\n",
       "      <th>mes</th>\n",
       "    </tr>\n",
       "  </thead>\n",
       "  <tbody>\n",
       "    <tr>\n",
       "      <th>1</th>\n",
       "      <td>59364</td>\n",
       "      <td>fisica</td>\n",
       "      <td>4</td>\n",
       "      <td>2019-12-26</td>\n",
       "      <td>2019</td>\n",
       "      <td>12</td>\n",
       "    </tr>\n",
       "    <tr>\n",
       "      <th>2</th>\n",
       "      <td>59364</td>\n",
       "      <td>algebra</td>\n",
       "      <td>5</td>\n",
       "      <td>2019-07-03</td>\n",
       "      <td>2019</td>\n",
       "      <td>7</td>\n",
       "    </tr>\n",
       "    <tr>\n",
       "      <th>4</th>\n",
       "      <td>16330</td>\n",
       "      <td>fisica</td>\n",
       "      <td>9</td>\n",
       "      <td>2019-10-03</td>\n",
       "      <td>2019</td>\n",
       "      <td>10</td>\n",
       "    </tr>\n",
       "    <tr>\n",
       "      <th>14</th>\n",
       "      <td>30217</td>\n",
       "      <td>algebra</td>\n",
       "      <td>4</td>\n",
       "      <td>2019-07-03</td>\n",
       "      <td>2019</td>\n",
       "      <td>7</td>\n",
       "    </tr>\n",
       "  </tbody>\n",
       "</table>\n",
       "</div>"
      ],
      "text/plain": [
       "    padron  materia  nota      fecha   año  mes\n",
       "1    59364   fisica     4 2019-12-26  2019   12\n",
       "2    59364  algebra     5 2019-07-03  2019    7\n",
       "4    16330   fisica     9 2019-10-03  2019   10\n",
       "14   30217  algebra     4 2019-07-03  2019    7"
      ]
     },
     "execution_count": 12,
     "metadata": {},
     "output_type": "execute_result"
    }
   ],
   "source": [
    "#C: Padron con mayor cantidad de aprobados en el ultimo cuatrimestre (2doC 2019)\n",
    "#Ya filtre 2019, ahora me voy a quedar con, de ese año, las filas que pertenecen al segundo cuatrimestre y tienen notas aprobadas\n",
    "\n",
    "notasAprobadasUltimoCuatri = notas2019.loc[(notas2019['mes']>=6)&(notas2019['nota']>=4)]\n",
    "notasAprobadasUltimoCuatri.head()"
   ]
  },
  {
   "cell_type": "code",
   "execution_count": 13,
   "metadata": {},
   "outputs": [
    {
     "name": "stderr",
     "output_type": "stream",
     "text": [
      "/home/franco/.local/lib/python3.6/site-packages/ipykernel_launcher.py:1: SettingWithCopyWarning: \n",
      "A value is trying to be set on a copy of a slice from a DataFrame.\n",
      "Try using .loc[row_indexer,col_indexer] = value instead\n",
      "\n",
      "See the caveats in the documentation: https://pandas.pydata.org/pandas-docs/stable/user_guide/indexing.html#returning-a-view-versus-a-copy\n",
      "  \"\"\"Entry point for launching an IPython kernel.\n"
     ]
    },
    {
     "data": {
      "text/html": [
       "<div>\n",
       "<style scoped>\n",
       "    .dataframe tbody tr th:only-of-type {\n",
       "        vertical-align: middle;\n",
       "    }\n",
       "\n",
       "    .dataframe tbody tr th {\n",
       "        vertical-align: top;\n",
       "    }\n",
       "\n",
       "    .dataframe thead th {\n",
       "        text-align: right;\n",
       "    }\n",
       "</style>\n",
       "<table border=\"1\" class=\"dataframe\">\n",
       "  <thead>\n",
       "    <tr style=\"text-align: right;\">\n",
       "      <th></th>\n",
       "      <th>padron</th>\n",
       "      <th>materia</th>\n",
       "      <th>nota</th>\n",
       "      <th>fecha</th>\n",
       "      <th>año</th>\n",
       "      <th>mes</th>\n",
       "      <th>counter</th>\n",
       "    </tr>\n",
       "  </thead>\n",
       "  <tbody>\n",
       "    <tr>\n",
       "      <th>1</th>\n",
       "      <td>59364</td>\n",
       "      <td>fisica</td>\n",
       "      <td>4</td>\n",
       "      <td>2019-12-26</td>\n",
       "      <td>2019</td>\n",
       "      <td>12</td>\n",
       "      <td>1</td>\n",
       "    </tr>\n",
       "    <tr>\n",
       "      <th>2</th>\n",
       "      <td>59364</td>\n",
       "      <td>algebra</td>\n",
       "      <td>5</td>\n",
       "      <td>2019-07-03</td>\n",
       "      <td>2019</td>\n",
       "      <td>7</td>\n",
       "      <td>1</td>\n",
       "    </tr>\n",
       "    <tr>\n",
       "      <th>4</th>\n",
       "      <td>16330</td>\n",
       "      <td>fisica</td>\n",
       "      <td>9</td>\n",
       "      <td>2019-10-03</td>\n",
       "      <td>2019</td>\n",
       "      <td>10</td>\n",
       "      <td>1</td>\n",
       "    </tr>\n",
       "    <tr>\n",
       "      <th>14</th>\n",
       "      <td>30217</td>\n",
       "      <td>algebra</td>\n",
       "      <td>4</td>\n",
       "      <td>2019-07-03</td>\n",
       "      <td>2019</td>\n",
       "      <td>7</td>\n",
       "      <td>1</td>\n",
       "    </tr>\n",
       "  </tbody>\n",
       "</table>\n",
       "</div>"
      ],
      "text/plain": [
       "    padron  materia  nota      fecha   año  mes  counter\n",
       "1    59364   fisica     4 2019-12-26  2019   12        1\n",
       "2    59364  algebra     5 2019-07-03  2019    7        1\n",
       "4    16330   fisica     9 2019-10-03  2019   10        1\n",
       "14   30217  algebra     4 2019-07-03  2019    7        1"
      ]
     },
     "execution_count": 13,
     "metadata": {},
     "output_type": "execute_result"
    }
   ],
   "source": [
    "notasAprobadasUltimoCuatri['counter'] = 1\n",
    "notasAprobadasUltimoCuatri.head()"
   ]
  },
  {
   "cell_type": "code",
   "execution_count": 14,
   "metadata": {},
   "outputs": [
    {
     "data": {
      "text/html": [
       "<div>\n",
       "<style scoped>\n",
       "    .dataframe tbody tr th:only-of-type {\n",
       "        vertical-align: middle;\n",
       "    }\n",
       "\n",
       "    .dataframe tbody tr th {\n",
       "        vertical-align: top;\n",
       "    }\n",
       "\n",
       "    .dataframe thead th {\n",
       "        text-align: right;\n",
       "    }\n",
       "</style>\n",
       "<table border=\"1\" class=\"dataframe\">\n",
       "  <thead>\n",
       "    <tr style=\"text-align: right;\">\n",
       "      <th></th>\n",
       "      <th>padron</th>\n",
       "      <th>materia</th>\n",
       "      <th>nota</th>\n",
       "      <th>fecha</th>\n",
       "      <th>año</th>\n",
       "      <th>mes</th>\n",
       "      <th>counter</th>\n",
       "    </tr>\n",
       "  </thead>\n",
       "  <tbody>\n",
       "    <tr>\n",
       "      <th>1</th>\n",
       "      <td>59364</td>\n",
       "      <td>fisica</td>\n",
       "      <td>4</td>\n",
       "      <td>2019-12-26</td>\n",
       "      <td>2019</td>\n",
       "      <td>12</td>\n",
       "      <td>1</td>\n",
       "    </tr>\n",
       "    <tr>\n",
       "      <th>2</th>\n",
       "      <td>59364</td>\n",
       "      <td>algebra</td>\n",
       "      <td>5</td>\n",
       "      <td>2019-07-03</td>\n",
       "      <td>2019</td>\n",
       "      <td>7</td>\n",
       "      <td>1</td>\n",
       "    </tr>\n",
       "    <tr>\n",
       "      <th>4</th>\n",
       "      <td>16330</td>\n",
       "      <td>fisica</td>\n",
       "      <td>9</td>\n",
       "      <td>2019-10-03</td>\n",
       "      <td>2019</td>\n",
       "      <td>10</td>\n",
       "      <td>1</td>\n",
       "    </tr>\n",
       "    <tr>\n",
       "      <th>14</th>\n",
       "      <td>30217</td>\n",
       "      <td>algebra</td>\n",
       "      <td>4</td>\n",
       "      <td>2019-07-03</td>\n",
       "      <td>2019</td>\n",
       "      <td>7</td>\n",
       "      <td>1</td>\n",
       "    </tr>\n",
       "  </tbody>\n",
       "</table>\n",
       "</div>"
      ],
      "text/plain": [
       "    padron  materia  nota      fecha   año  mes  counter\n",
       "1    59364   fisica     4 2019-12-26  2019   12        1\n",
       "2    59364  algebra     5 2019-07-03  2019    7        1\n",
       "4    16330   fisica     9 2019-10-03  2019   10        1\n",
       "14   30217  algebra     4 2019-07-03  2019    7        1"
      ]
     },
     "execution_count": 14,
     "metadata": {},
     "output_type": "execute_result"
    }
   ],
   "source": [
    "agrupadosPorPadron = notasAprobadasUltimoCuatri.groupby('padron')\n",
    "agrupadosPorPadron.head()"
   ]
  },
  {
   "cell_type": "code",
   "execution_count": 15,
   "metadata": {},
   "outputs": [
    {
     "data": {
      "text/plain": [
       "padron\n",
       "16330    1\n",
       "30217    1\n",
       "59364    2\n",
       "Name: counter, dtype: int64"
      ]
     },
     "execution_count": 15,
     "metadata": {},
     "output_type": "execute_result"
    }
   ],
   "source": [
    "agrupadosPorPadronAgg = agrupadosPorPadron['counter'].agg('sum')\n",
    "agrupadosPorPadronAgg.head()"
   ]
  },
  {
   "cell_type": "code",
   "execution_count": 16,
   "metadata": {},
   "outputs": [
    {
     "data": {
      "text/plain": [
       "59364"
      ]
     },
     "execution_count": 16,
     "metadata": {},
     "output_type": "execute_result"
    }
   ],
   "source": [
    "agrupadosPorPadronAgg.idxmax()"
   ]
  },
  {
   "cell_type": "code",
   "execution_count": null,
   "metadata": {},
   "outputs": [],
   "source": [
    "#D: Nota promedio del padron con mayor aprobadas\n",
    "#Me quedo solo con las notas del padron con mas aprobadas"
   ]
  },
  {
   "cell_type": "code",
   "execution_count": 20,
   "metadata": {},
   "outputs": [
    {
     "data": {
      "text/html": [
       "<div>\n",
       "<style scoped>\n",
       "    .dataframe tbody tr th:only-of-type {\n",
       "        vertical-align: middle;\n",
       "    }\n",
       "\n",
       "    .dataframe tbody tr th {\n",
       "        vertical-align: top;\n",
       "    }\n",
       "\n",
       "    .dataframe thead th {\n",
       "        text-align: right;\n",
       "    }\n",
       "</style>\n",
       "<table border=\"1\" class=\"dataframe\">\n",
       "  <thead>\n",
       "    <tr style=\"text-align: right;\">\n",
       "      <th></th>\n",
       "      <th>padron</th>\n",
       "      <th>materia</th>\n",
       "      <th>nota</th>\n",
       "      <th>fecha</th>\n",
       "      <th>año</th>\n",
       "      <th>mes</th>\n",
       "    </tr>\n",
       "  </thead>\n",
       "  <tbody>\n",
       "    <tr>\n",
       "      <th>0</th>\n",
       "      <td>59364</td>\n",
       "      <td>analisis</td>\n",
       "      <td>2</td>\n",
       "      <td>2018-08-24</td>\n",
       "      <td>2018</td>\n",
       "      <td>8</td>\n",
       "    </tr>\n",
       "    <tr>\n",
       "      <th>1</th>\n",
       "      <td>59364</td>\n",
       "      <td>fisica</td>\n",
       "      <td>4</td>\n",
       "      <td>2019-12-26</td>\n",
       "      <td>2019</td>\n",
       "      <td>12</td>\n",
       "    </tr>\n",
       "    <tr>\n",
       "      <th>2</th>\n",
       "      <td>59364</td>\n",
       "      <td>algebra</td>\n",
       "      <td>5</td>\n",
       "      <td>2019-07-03</td>\n",
       "      <td>2019</td>\n",
       "      <td>7</td>\n",
       "    </tr>\n",
       "  </tbody>\n",
       "</table>\n",
       "</div>"
      ],
      "text/plain": [
       "   padron   materia  nota      fecha   año  mes\n",
       "0   59364  analisis     2 2018-08-24  2018    8\n",
       "1   59364    fisica     4 2019-12-26  2019   12\n",
       "2   59364   algebra     5 2019-07-03  2019    7"
      ]
     },
     "execution_count": 20,
     "metadata": {},
     "output_type": "execute_result"
    }
   ],
   "source": [
    "notasMejorPadron = df.loc[df['padron'] == agrupadosPorPadronAgg.idxmax()]\n",
    "notasMejorPadron.head()"
   ]
  },
  {
   "cell_type": "code",
   "execution_count": 21,
   "metadata": {},
   "outputs": [
    {
     "data": {
      "text/plain": [
       "3.6666666666666665"
      ]
     },
     "execution_count": 21,
     "metadata": {},
     "output_type": "execute_result"
    }
   ],
   "source": [
    "#Al nuevo dataframe con solo el padron de interes, le calculo promedio en las notas\n",
    "notasMejorPadron['nota'].mean()"
   ]
  },
  {
   "cell_type": "code",
   "execution_count": 22,
   "metadata": {},
   "outputs": [],
   "source": [
    "#E: Nota promedio por padron\n",
    "#Ya agrupe por padron en la variable agrupadosPorPadron pero eso estaba filtrado en 2019"
   ]
  },
  {
   "cell_type": "code",
   "execution_count": 27,
   "metadata": {},
   "outputs": [
    {
     "data": {
      "text/html": [
       "<div>\n",
       "<style scoped>\n",
       "    .dataframe tbody tr th:only-of-type {\n",
       "        vertical-align: middle;\n",
       "    }\n",
       "\n",
       "    .dataframe tbody tr th {\n",
       "        vertical-align: top;\n",
       "    }\n",
       "\n",
       "    .dataframe thead th {\n",
       "        text-align: right;\n",
       "    }\n",
       "</style>\n",
       "<table border=\"1\" class=\"dataframe\">\n",
       "  <thead>\n",
       "    <tr style=\"text-align: right;\">\n",
       "      <th></th>\n",
       "      <th>padron</th>\n",
       "      <th>materia</th>\n",
       "      <th>nota</th>\n",
       "      <th>fecha</th>\n",
       "      <th>año</th>\n",
       "      <th>mes</th>\n",
       "    </tr>\n",
       "  </thead>\n",
       "  <tbody>\n",
       "    <tr>\n",
       "      <th>0</th>\n",
       "      <td>59364</td>\n",
       "      <td>analisis</td>\n",
       "      <td>2</td>\n",
       "      <td>2018-08-24</td>\n",
       "      <td>2018</td>\n",
       "      <td>8</td>\n",
       "    </tr>\n",
       "    <tr>\n",
       "      <th>1</th>\n",
       "      <td>59364</td>\n",
       "      <td>fisica</td>\n",
       "      <td>4</td>\n",
       "      <td>2019-12-26</td>\n",
       "      <td>2019</td>\n",
       "      <td>12</td>\n",
       "    </tr>\n",
       "    <tr>\n",
       "      <th>2</th>\n",
       "      <td>59364</td>\n",
       "      <td>algebra</td>\n",
       "      <td>5</td>\n",
       "      <td>2019-07-03</td>\n",
       "      <td>2019</td>\n",
       "      <td>7</td>\n",
       "    </tr>\n",
       "    <tr>\n",
       "      <th>3</th>\n",
       "      <td>16330</td>\n",
       "      <td>analisis</td>\n",
       "      <td>5</td>\n",
       "      <td>2019-03-05</td>\n",
       "      <td>2019</td>\n",
       "      <td>3</td>\n",
       "    </tr>\n",
       "    <tr>\n",
       "      <th>4</th>\n",
       "      <td>16330</td>\n",
       "      <td>fisica</td>\n",
       "      <td>9</td>\n",
       "      <td>2019-10-03</td>\n",
       "      <td>2019</td>\n",
       "      <td>10</td>\n",
       "    </tr>\n",
       "    <tr>\n",
       "      <th>5</th>\n",
       "      <td>16330</td>\n",
       "      <td>algebra</td>\n",
       "      <td>5</td>\n",
       "      <td>2019-02-11</td>\n",
       "      <td>2019</td>\n",
       "      <td>2</td>\n",
       "    </tr>\n",
       "    <tr>\n",
       "      <th>6</th>\n",
       "      <td>27851</td>\n",
       "      <td>analisis</td>\n",
       "      <td>2</td>\n",
       "      <td>2018-04-24</td>\n",
       "      <td>2018</td>\n",
       "      <td>4</td>\n",
       "    </tr>\n",
       "    <tr>\n",
       "      <th>7</th>\n",
       "      <td>27851</td>\n",
       "      <td>fisica</td>\n",
       "      <td>4</td>\n",
       "      <td>2018-09-04</td>\n",
       "      <td>2018</td>\n",
       "      <td>9</td>\n",
       "    </tr>\n",
       "    <tr>\n",
       "      <th>8</th>\n",
       "      <td>27851</td>\n",
       "      <td>algebra</td>\n",
       "      <td>2</td>\n",
       "      <td>2018-08-21</td>\n",
       "      <td>2018</td>\n",
       "      <td>8</td>\n",
       "    </tr>\n",
       "    <tr>\n",
       "      <th>9</th>\n",
       "      <td>15761</td>\n",
       "      <td>analisis</td>\n",
       "      <td>2</td>\n",
       "      <td>2019-11-25</td>\n",
       "      <td>2019</td>\n",
       "      <td>11</td>\n",
       "    </tr>\n",
       "    <tr>\n",
       "      <th>10</th>\n",
       "      <td>15761</td>\n",
       "      <td>fisica</td>\n",
       "      <td>2</td>\n",
       "      <td>2019-10-31</td>\n",
       "      <td>2019</td>\n",
       "      <td>10</td>\n",
       "    </tr>\n",
       "    <tr>\n",
       "      <th>11</th>\n",
       "      <td>15761</td>\n",
       "      <td>algebra</td>\n",
       "      <td>4</td>\n",
       "      <td>2018-10-07</td>\n",
       "      <td>2018</td>\n",
       "      <td>10</td>\n",
       "    </tr>\n",
       "    <tr>\n",
       "      <th>12</th>\n",
       "      <td>30217</td>\n",
       "      <td>analisis</td>\n",
       "      <td>2</td>\n",
       "      <td>2018-08-24</td>\n",
       "      <td>2018</td>\n",
       "      <td>8</td>\n",
       "    </tr>\n",
       "    <tr>\n",
       "      <th>13</th>\n",
       "      <td>30217</td>\n",
       "      <td>fisica</td>\n",
       "      <td>2</td>\n",
       "      <td>2018-12-26</td>\n",
       "      <td>2018</td>\n",
       "      <td>12</td>\n",
       "    </tr>\n",
       "    <tr>\n",
       "      <th>14</th>\n",
       "      <td>30217</td>\n",
       "      <td>algebra</td>\n",
       "      <td>4</td>\n",
       "      <td>2019-07-03</td>\n",
       "      <td>2019</td>\n",
       "      <td>7</td>\n",
       "    </tr>\n",
       "    <tr>\n",
       "      <th>15</th>\n",
       "      <td>19469</td>\n",
       "      <td>analisis</td>\n",
       "      <td>7</td>\n",
       "      <td>2019-03-05</td>\n",
       "      <td>2019</td>\n",
       "      <td>3</td>\n",
       "    </tr>\n",
       "    <tr>\n",
       "      <th>16</th>\n",
       "      <td>19469</td>\n",
       "      <td>fisica</td>\n",
       "      <td>2</td>\n",
       "      <td>2019-10-03</td>\n",
       "      <td>2019</td>\n",
       "      <td>10</td>\n",
       "    </tr>\n",
       "    <tr>\n",
       "      <th>17</th>\n",
       "      <td>19469</td>\n",
       "      <td>algebra</td>\n",
       "      <td>2</td>\n",
       "      <td>2019-07-03</td>\n",
       "      <td>2019</td>\n",
       "      <td>7</td>\n",
       "    </tr>\n",
       "  </tbody>\n",
       "</table>\n",
       "</div>"
      ],
      "text/plain": [
       "    padron   materia  nota      fecha   año  mes\n",
       "0    59364  analisis     2 2018-08-24  2018    8\n",
       "1    59364    fisica     4 2019-12-26  2019   12\n",
       "2    59364   algebra     5 2019-07-03  2019    7\n",
       "3    16330  analisis     5 2019-03-05  2019    3\n",
       "4    16330    fisica     9 2019-10-03  2019   10\n",
       "5    16330   algebra     5 2019-02-11  2019    2\n",
       "6    27851  analisis     2 2018-04-24  2018    4\n",
       "7    27851    fisica     4 2018-09-04  2018    9\n",
       "8    27851   algebra     2 2018-08-21  2018    8\n",
       "9    15761  analisis     2 2019-11-25  2019   11\n",
       "10   15761    fisica     2 2019-10-31  2019   10\n",
       "11   15761   algebra     4 2018-10-07  2018   10\n",
       "12   30217  analisis     2 2018-08-24  2018    8\n",
       "13   30217    fisica     2 2018-12-26  2018   12\n",
       "14   30217   algebra     4 2019-07-03  2019    7\n",
       "15   19469  analisis     7 2019-03-05  2019    3\n",
       "16   19469    fisica     2 2019-10-03  2019   10\n",
       "17   19469   algebra     2 2019-07-03  2019    7"
      ]
     },
     "execution_count": 27,
     "metadata": {},
     "output_type": "execute_result"
    }
   ],
   "source": [
    "agrupadosPorPadron = df.groupby('padron')\n",
    "agrupadosPorPadron.head()"
   ]
  },
  {
   "cell_type": "code",
   "execution_count": 28,
   "metadata": {},
   "outputs": [
    {
     "data": {
      "text/plain": [
       "padron\n",
       "15761    2.666667\n",
       "16330    6.333333\n",
       "19469    3.666667\n",
       "27851    2.666667\n",
       "30217    2.666667\n",
       "Name: nota, dtype: float64"
      ]
     },
     "execution_count": 28,
     "metadata": {},
     "output_type": "execute_result"
    }
   ],
   "source": [
    "agrupadosPorPadronMean = agrupadosPorPadron['nota'].agg('mean')\n",
    "agrupadosPorPadronMean.head()"
   ]
  },
  {
   "cell_type": "code",
   "execution_count": null,
   "metadata": {},
   "outputs": [],
   "source": []
  }
 ],
 "metadata": {
  "kernelspec": {
   "display_name": "Python 3",
   "language": "python",
   "name": "python3"
  },
  "language_info": {
   "codemirror_mode": {
    "name": "ipython",
    "version": 3
   },
   "file_extension": ".py",
   "mimetype": "text/x-python",
   "name": "python",
   "nbconvert_exporter": "python",
   "pygments_lexer": "ipython3",
   "version": "3.7.6"
  }
 },
 "nbformat": 4,
 "nbformat_minor": 2
}
