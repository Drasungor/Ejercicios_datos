{
 "cells": [
  {
   "cell_type": "code",
   "execution_count": 16,
   "metadata": {},
   "outputs": [
    {
     "name": "stdout",
     "output_type": "stream",
     "text": [
      "<class 'pandas.core.frame.DataFrame'>\n",
      "Int64Index: 100 entries, 0 to 99\n",
      "Data columns (total 4 columns):\n",
      " #   Column       Non-Null Count  Dtype         \n",
      "---  ------       --------------  -----         \n",
      " 0   fecha        100 non-null    datetime64[ns]\n",
      " 1   id_caso      100 non-null    int64         \n",
      " 2   estado_caso  100 non-null    int64         \n",
      " 3   categoria    100 non-null    int64         \n",
      "dtypes: datetime64[ns](1), int64(3)\n",
      "memory usage: 3.9 KB\n"
     ]
    }
   ],
   "source": [
    "import pandas as pd\n",
    "import datetime as dt\n",
    "#Los dataframes originales son: casos_policiales, casos_batisenial\n",
    "casos_policiales = pd.read_csv(\"Casos.csv\")\n",
    "casos_batisenial = pd.read_csv(\"Batman.csv\")\n",
    "casos_policiales[\"fecha\"] = pd.to_datetime(casos_policiales[\"fecha\"], errors=\"coerce\")\n",
    "casos_policiales.dropna(inplace=True)\n",
    "casos_policiales.info()"
   ]
  },
  {
   "cell_type": "code",
   "execution_count": 2,
   "metadata": {
    "scrolled": true
   },
   "outputs": [
    {
     "data": {
      "text/html": [
       "<div>\n",
       "<style scoped>\n",
       "    .dataframe tbody tr th:only-of-type {\n",
       "        vertical-align: middle;\n",
       "    }\n",
       "\n",
       "    .dataframe tbody tr th {\n",
       "        vertical-align: top;\n",
       "    }\n",
       "\n",
       "    .dataframe thead th {\n",
       "        text-align: right;\n",
       "    }\n",
       "</style>\n",
       "<table border=\"1\" class=\"dataframe\">\n",
       "  <thead>\n",
       "    <tr style=\"text-align: right;\">\n",
       "      <th></th>\n",
       "      <th>Proporcion casos resueltos</th>\n",
       "    </tr>\n",
       "    <tr>\n",
       "      <th>categoria</th>\n",
       "      <th></th>\n",
       "    </tr>\n",
       "  </thead>\n",
       "  <tbody>\n",
       "    <tr>\n",
       "      <th>0</th>\n",
       "      <td>0</td>\n",
       "    </tr>\n",
       "    <tr>\n",
       "      <th>1</th>\n",
       "      <td>0</td>\n",
       "    </tr>\n",
       "    <tr>\n",
       "      <th>2</th>\n",
       "      <td>1</td>\n",
       "    </tr>\n",
       "    <tr>\n",
       "      <th>3</th>\n",
       "      <td>0</td>\n",
       "    </tr>\n",
       "    <tr>\n",
       "      <th>4</th>\n",
       "      <td>0</td>\n",
       "    </tr>\n",
       "  </tbody>\n",
       "</table>\n",
       "</div>"
      ],
      "text/plain": [
       "           Proporcion casos resueltos\n",
       "categoria                            \n",
       "0                                   0\n",
       "1                                   0\n",
       "2                                   1\n",
       "3                                   0\n",
       "4                                   0"
      ]
     },
     "execution_count": 2,
     "metadata": {},
     "output_type": "execute_result"
    }
   ],
   "source": [
    "#A\n",
    "\n",
    "def proporcion_resueltos(x):\n",
    "    return ((x==2).sum()/len(x))\n",
    "\n",
    "sin_batman = casos_batisenial[casos_batisenial[\"respuesta\"]==0][\"id_caso\"].to_frame()\n",
    "casos_sin_batman = casos_policiales.merge(sin_batman, on=\"id_caso\", how=\"inner\")\n",
    "casos_sin_batman = casos_sin_batman[casos_sin_batman[\"estado_caso\"] != 1] #Saco los que se estan resolviendo\n",
    "casos_sin_batman_agrupados = casos_sin_batman.groupby(\"categoria\")\n",
    "proporciones_resueltos = casos_sin_batman_agrupados.agg({\"categoria\":proporcion_resueltos})\n",
    "proporciones_resueltos.columns=[\"Proporcion casos resueltos\"]\n",
    "proporciones_resueltos"
   ]
  },
  {
   "cell_type": "code",
   "execution_count": 12,
   "metadata": {},
   "outputs": [
    {
     "data": {
      "text/plain": [
       "proporcion_casos_resueltos    0.615385\n",
       "dtype: float64"
      ]
     },
     "execution_count": 12,
     "metadata": {},
     "output_type": "execute_result"
    }
   ],
   "source": [
    "#B\n",
    "\n",
    "def proporcion_resueltos(x):\n",
    "    return (x==2).sum()/len(x)\n",
    "\n",
    "con_batman = casos_batisenial[casos_batisenial[\"respuesta\"]==1][\"id_caso\"]\n",
    "casos_concluidos = casos_policiales[casos_policiales[\"estado_caso\"]!=1]\n",
    "casos_con_batman = casos_concluidos.merge(con_batman, how=\"inner\", on=\"id_caso\")\n",
    "casos_con_batman = casos_con_batman.agg({\"estado_caso\":proporcion_resueltos})\n",
    "casos_con_batman.index =[\"proporcion_casos_resueltos\"]\n",
    "casos_con_batman"
   ]
  },
  {
   "cell_type": "code",
   "execution_count": 41,
   "metadata": {},
   "outputs": [
    {
     "data": {
      "text/html": [
       "<div>\n",
       "<style scoped>\n",
       "    .dataframe tbody tr th:only-of-type {\n",
       "        vertical-align: middle;\n",
       "    }\n",
       "\n",
       "    .dataframe tbody tr th {\n",
       "        vertical-align: top;\n",
       "    }\n",
       "\n",
       "    .dataframe thead th {\n",
       "        text-align: right;\n",
       "    }\n",
       "</style>\n",
       "<table border=\"1\" class=\"dataframe\">\n",
       "  <thead>\n",
       "    <tr style=\"text-align: right;\">\n",
       "      <th></th>\n",
       "      <th>cantidad_de_casos</th>\n",
       "    </tr>\n",
       "    <tr>\n",
       "      <th>mes</th>\n",
       "      <th></th>\n",
       "    </tr>\n",
       "  </thead>\n",
       "  <tbody>\n",
       "    <tr>\n",
       "      <th>3</th>\n",
       "      <td>3</td>\n",
       "    </tr>\n",
       "    <tr>\n",
       "      <th>4</th>\n",
       "      <td>3</td>\n",
       "    </tr>\n",
       "    <tr>\n",
       "      <th>8</th>\n",
       "      <td>3</td>\n",
       "    </tr>\n",
       "    <tr>\n",
       "      <th>9</th>\n",
       "      <td>3</td>\n",
       "    </tr>\n",
       "  </tbody>\n",
       "</table>\n",
       "</div>"
      ],
      "text/plain": [
       "     cantidad_de_casos\n",
       "mes                   \n",
       "3                    3\n",
       "4                    3\n",
       "8                    3\n",
       "9                    3"
      ]
     },
     "execution_count": 41,
     "metadata": {},
     "output_type": "execute_result"
    }
   ],
   "source": [
    "#C\n",
    "ultimo_anio = casos_policiales[\"fecha\"].max().year\n",
    "con_batman = casos_batisenial[casos_batisenial[\"respuesta\"]==1][\"id_caso\"]\n",
    "casos_ultimo_anio = casos_policiales[casos_policiales[\"fecha\"].dt.year == (ultimo_anio-1)]\n",
    "casos_con_batman = casos_ultimo_anio.merge(con_batman,on=\"id_caso\",how=\"inner\")\n",
    "casos_con_batman[\"mes\"] = casos_policiales[\"fecha\"].dt.month\n",
    "casos_con_batman_por_mes=casos_con_batman.groupby(\"mes\").agg({\"id_caso\":\"count\"})\n",
    "casos_con_batman_por_mes.columns=[\"cantidad_de_casos\"]\n",
    "casos_con_batman_por_mes.nlargest(1,\"cantidad_de_casos\",\"all\")"
   ]
  },
  {
   "cell_type": "code",
   "execution_count": null,
   "metadata": {},
   "outputs": [],
   "source": []
  }
 ],
 "metadata": {
  "kernelspec": {
   "display_name": "Python 3",
   "language": "python",
   "name": "python3"
  },
  "language_info": {
   "codemirror_mode": {
    "name": "ipython",
    "version": 3
   },
   "file_extension": ".py",
   "mimetype": "text/x-python",
   "name": "python",
   "nbconvert_exporter": "python",
   "pygments_lexer": "ipython3",
   "version": "3.8.3"
  }
 },
 "nbformat": 4,
 "nbformat_minor": 4
}
