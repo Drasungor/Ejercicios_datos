{
 "cells": [
  {
   "cell_type": "code",
   "execution_count": 1,
   "metadata": {},
   "outputs": [],
   "source": [
    "import pandas as pd"
   ]
  },
  {
   "cell_type": "code",
   "execution_count": 7,
   "metadata": {},
   "outputs": [],
   "source": [
    "ventas = pd.read_csv(\"ventas.csv\")\n",
    "productos = pd.read_csv(\"productos.csv\")"
   ]
  },
  {
   "cell_type": "code",
   "execution_count": 8,
   "metadata": {},
   "outputs": [
    {
     "data": {
      "text/html": [
       "<div>\n",
       "<style scoped>\n",
       "    .dataframe tbody tr th:only-of-type {\n",
       "        vertical-align: middle;\n",
       "    }\n",
       "\n",
       "    .dataframe tbody tr th {\n",
       "        vertical-align: top;\n",
       "    }\n",
       "\n",
       "    .dataframe thead th {\n",
       "        text-align: right;\n",
       "    }\n",
       "</style>\n",
       "<table border=\"1\" class=\"dataframe\">\n",
       "  <thead>\n",
       "    <tr style=\"text-align: right;\">\n",
       "      <th></th>\n",
       "      <th>tiene_reclamo</th>\n",
       "    </tr>\n",
       "    <tr>\n",
       "      <th>id_vendedor</th>\n",
       "      <th></th>\n",
       "    </tr>\n",
       "  </thead>\n",
       "  <tbody>\n",
       "    <tr>\n",
       "      <th>2</th>\n",
       "      <td>1.000000</td>\n",
       "    </tr>\n",
       "    <tr>\n",
       "      <th>3</th>\n",
       "      <td>1.000000</td>\n",
       "    </tr>\n",
       "    <tr>\n",
       "      <th>8</th>\n",
       "      <td>1.000000</td>\n",
       "    </tr>\n",
       "    <tr>\n",
       "      <th>9</th>\n",
       "      <td>1.000000</td>\n",
       "    </tr>\n",
       "    <tr>\n",
       "      <th>13</th>\n",
       "      <td>1.000000</td>\n",
       "    </tr>\n",
       "    <tr>\n",
       "      <th>...</th>\n",
       "      <td>...</td>\n",
       "    </tr>\n",
       "    <tr>\n",
       "      <th>988</th>\n",
       "      <td>1.000000</td>\n",
       "    </tr>\n",
       "    <tr>\n",
       "      <th>991</th>\n",
       "      <td>0.666667</td>\n",
       "    </tr>\n",
       "    <tr>\n",
       "      <th>993</th>\n",
       "      <td>0.500000</td>\n",
       "    </tr>\n",
       "    <tr>\n",
       "      <th>994</th>\n",
       "      <td>1.000000</td>\n",
       "    </tr>\n",
       "    <tr>\n",
       "      <th>996</th>\n",
       "      <td>1.000000</td>\n",
       "    </tr>\n",
       "  </tbody>\n",
       "</table>\n",
       "<p>404 rows × 1 columns</p>\n",
       "</div>"
      ],
      "text/plain": [
       "             tiene_reclamo\n",
       "id_vendedor               \n",
       "2                 1.000000\n",
       "3                 1.000000\n",
       "8                 1.000000\n",
       "9                 1.000000\n",
       "13                1.000000\n",
       "...                    ...\n",
       "988               1.000000\n",
       "991               0.666667\n",
       "993               0.500000\n",
       "994               1.000000\n",
       "996               1.000000\n",
       "\n",
       "[404 rows x 1 columns]"
      ]
     },
     "execution_count": 8,
     "metadata": {},
     "output_type": "execute_result"
    }
   ],
   "source": [
    "#A\n",
    "ventas_por_vendedor = ventas.groupby(\"id_vendedor\").\\\n",
    "        agg({\"tiene_reclamo\":\"mean\"})\n",
    "ventas_por_vendedor[ventas_por_vendedor[\"tiene_reclamo\"] > 0.3]"
   ]
  },
  {
   "cell_type": "code",
   "execution_count": 15,
   "metadata": {},
   "outputs": [
    {
     "data": {
      "text/html": [
       "<div>\n",
       "<style scoped>\n",
       "    .dataframe tbody tr th:only-of-type {\n",
       "        vertical-align: middle;\n",
       "    }\n",
       "\n",
       "    .dataframe tbody tr th {\n",
       "        vertical-align: top;\n",
       "    }\n",
       "\n",
       "    .dataframe thead th {\n",
       "        text-align: right;\n",
       "    }\n",
       "</style>\n",
       "<table border=\"1\" class=\"dataframe\">\n",
       "  <thead>\n",
       "    <tr style=\"text-align: right;\">\n",
       "      <th></th>\n",
       "      <th>ventas_2019</th>\n",
       "      <th>id_producto</th>\n",
       "      <th>ventas_2018</th>\n",
       "      <th>diferencia</th>\n",
       "    </tr>\n",
       "  </thead>\n",
       "  <tbody>\n",
       "  </tbody>\n",
       "</table>\n",
       "</div>"
      ],
      "text/plain": [
       "Empty DataFrame\n",
       "Columns: [ventas_2019, id_producto, ventas_2018, diferencia]\n",
       "Index: []"
      ]
     },
     "execution_count": 15,
     "metadata": {},
     "output_type": "execute_result"
    }
   ],
   "source": [
    "#B\n",
    "productos_smartphone = productos[productos[\"categoria\"]==\"smartphone\"]\n",
    "ventas_smartphone = ventas.merge(productos_smartphone[\"id_producto\"], on=\"id_producto\")\n",
    "ventas_2018 = ventas_smartphone[(ventas_smartphone[\"año\"]==2018) & (ventas_smartphone[\"mes\"]==12)]\n",
    "ventas_2019 = ventas_smartphone[(ventas_smartphone[\"año\"]==2019) & (ventas_smartphone[\"mes\"]==12)]\n",
    "ventas_totales_2018 = ventas_2018.groupby(\"id_producto\").agg({\"id_comprador\":\"count\"})\n",
    "ventas_totales_2018.columns = [\"ventas_2018\"]\n",
    "ventas_totales_2018.reset_index(inplace=True)\n",
    "ventas_totales_2019 = ventas_2019.groupby(\"id_producto\").agg({\"id_comprador\":\"count\"})\n",
    "ventas_totales_2019.columns = [\"ventas_2019\"]\n",
    "ventas_totales_2019.reset_index(inplace=True)\n",
    "ventas_2018_2019 = ventas_totales_2019.merge(ventas_totales_2018, on=\"id_producto\", how = \"inner\")\n",
    "ventas_2018_2019[\"diferencia\"] = ventas_2018_2019[\"ventas_2019\"] - ventas_2018_2019[\"ventas_2018\"]\n",
    "ventas_2018_2019.nsmallest(1, \"diferencia\", \"all\")[\"id_producto\"]"
   ]
  },
  {
   "cell_type": "code",
   "execution_count": null,
   "metadata": {},
   "outputs": [],
   "source": [
    "#C\n",
    "Subir establecer una cantidad minima de ventas que debe tener un "
   ]
  }
 ],
 "metadata": {
  "kernelspec": {
   "display_name": "Python 3",
   "language": "python",
   "name": "python3"
  },
  "language_info": {
   "codemirror_mode": {
    "name": "ipython",
    "version": 3
   },
   "file_extension": ".py",
   "mimetype": "text/x-python",
   "name": "python",
   "nbconvert_exporter": "python",
   "pygments_lexer": "ipython3",
   "version": "3.8.3"
  }
 },
 "nbformat": 4,
 "nbformat_minor": 4
}
