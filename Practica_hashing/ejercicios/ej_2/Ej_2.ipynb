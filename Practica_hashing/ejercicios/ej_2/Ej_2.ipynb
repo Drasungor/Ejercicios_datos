{
 "cells": [
  {
   "cell_type": "code",
   "execution_count": 2,
   "metadata": {},
   "outputs": [],
   "source": [
    "def h(x, a, b, m):\n",
    "    return (a * x + b) % m #b < m"
   ]
  },
  {
   "cell_type": "code",
   "execution_count": 3,
   "metadata": {},
   "outputs": [
    {
     "name": "stdout",
     "output_type": "stream",
     "text": [
      "h(x) = (0.x + 0) % 1\n"
     ]
    }
   ],
   "source": [
    "vec = [1, 3, 5, 12]\n",
    "hashes = []\n",
    "a = 0\n",
    "b = 0\n",
    "m = 1\n",
    "se_repiten = False\n",
    "while (se_repiten):\n",
    "    se_repiten = False\n",
    "    for a in range(m):\n",
    "        for b in range(m):\n",
    "            for i in range(len(vec)):\n",
    "                res_hash = h(vec[i], a, b, m)\n",
    "    m += 1\n",
    "        \n",
    "print(\"h(x) = (\" + str(a) + \".x + \" + str(b) + \") % \" + str(m))"
   ]
  },
  {
   "cell_type": "code",
   "execution_count": null,
   "metadata": {},
   "outputs": [],
   "source": []
  }
 ],
 "metadata": {
  "kernelspec": {
   "display_name": "Python 3",
   "language": "python",
   "name": "python3"
  },
  "language_info": {
   "codemirror_mode": {
    "name": "ipython",
    "version": 3
   },
   "file_extension": ".py",
   "mimetype": "text/x-python",
   "name": "python",
   "nbconvert_exporter": "python",
   "pygments_lexer": "ipython3",
   "version": "3.8.3"
  }
 },
 "nbformat": 4,
 "nbformat_minor": 4
}
