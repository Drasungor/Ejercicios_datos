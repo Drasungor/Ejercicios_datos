{
 "cells": [
  {
   "cell_type": "code",
   "execution_count": 1,
   "metadata": {},
   "outputs": [],
   "source": [
    "import pandas as pd\n",
    "from pyspark.sql import *"
   ]
  },
  {
   "cell_type": "code",
   "execution_count": 2,
   "metadata": {},
   "outputs": [],
   "source": [
    "spark = SparkSession.builder.getOrCreate()\n",
    "sc = spark.sparkContext\n",
    "sqlc = SQLContext(sc)\n",
    "ventas = sqlc.read.csv(\"ventas.csv\", header=True).rdd\n",
    "ventas = ventas.map(lambda x:(pd.to_datetime(x[0],\"coerce\"), \\\n",
    "                     pd.to_numeric(x[1],\"coerce\"), pd.to_numeric(x[2],\"coerce\"))).cache()\n",
    "productos = sqlc.read.csv(\"productos.csv\", header=True).rdd\n",
    "productos = productos.map(lambda x:(pd.to_numeric(x[0],\"coerce\"), x[1], x[2])).cache()\n",
    "\n",
    "#ventas: (fecha de venta, código de producto, precio de venta)\n",
    "#productos: (código de producto, descripción del producto, categoría)"
   ]
  },
  {
   "cell_type": "code",
   "execution_count": 3,
   "metadata": {
    "scrolled": true
   },
   "outputs": [
    {
     "data": {
      "text/plain": [
       "[(16, 64), (44, 64)]"
      ]
     },
     "execution_count": 3,
     "metadata": {},
     "output_type": "execute_result"
    }
   ],
   "source": [
    "#A: Cuál es el producto más vendido\n",
    "ventas_por_producto = ventas.map(lambda x: (x[1], 1)).reduceByKey(lambda x,y: x+y).cache()\n",
    "mayor_venta = ventas_por_producto.reduce(lambda x,y:x if x[1]>y[1] else y)[1]\n",
    "ventas_por_producto.filter(lambda x:x[1]==mayor_venta).collect()#Por si se repite el maximo"
   ]
  },
  {
   "cell_type": "code",
   "execution_count": 4,
   "metadata": {},
   "outputs": [
    {
     "data": {
      "text/plain": [
       "[('categoria_4', 250)]"
      ]
     },
     "execution_count": 4,
     "metadata": {},
     "output_type": "execute_result"
    }
   ],
   "source": [
    "#B: Cuál es la categoría de productos más vendida\n",
    "id_y_categoria = productos.map(lambda x:(x[0], x[2])).cache()\n",
    "categoria_y_ventas = ventas_por_producto.join(id_y_categoria).\\\n",
    "                map(lambda x:(x[1][1], x[1][0]))\n",
    "categoria_y_ventas = categoria_y_ventas.reduceByKey(lambda x,y:x+y).cache()\n",
    "max_cantidad = categoria_y_ventas.reduce(lambda x,y: x if x[1]>y[1] else y)[1]\n",
    "categoria_y_ventas.filter(lambda x: x[1]==max_cantidad).collect()#Por si se repite el maximo"
   ]
  },
  {
   "cell_type": "code",
   "execution_count": 5,
   "metadata": {},
   "outputs": [
    {
     "data": {
      "text/plain": [
       "[(115, 'xIU', 10),\n",
       " (155, 'WIoE', 9),\n",
       " (16, 'gbIPijV', 64),\n",
       " (44, 'HiDne', 64),\n",
       " (294, 'vgiBzfM', 10)]"
      ]
     },
     "execution_count": 5,
     "metadata": {},
     "output_type": "execute_result"
    }
   ],
   "source": [
    "#C: Cuál es el top5 de productos más vendidos generando un RDD con \n",
    "#(código de producto, descripción, cantidad de ventas)\n",
    "prod_mas_vend = sc.parallelize(ventas_por_producto.takeOrdered(5,lambda x:-x[1]))#Ni idea que hacer \n",
    "                                                                                 #aca con los repetidos\n",
    "prod_mas_vend.leftOuterJoin(productos.map(lambda x:(x[0],x[1]))).map(lambda x:(x[0],x[1][1],x[1][0])).collect()"
   ]
  },
  {
   "cell_type": "code",
   "execution_count": 6,
   "metadata": {},
   "outputs": [
    {
     "data": {
      "text/plain": [
       "(44, (21, 85))"
      ]
     },
     "execution_count": 6,
     "metadata": {},
     "output_type": "execute_result"
    }
   ],
   "source": [
    "#D: Cuál es el producto que registró mayor aumento de precio en el último año, tomando para \n",
    "#este análisis solo los productos que cuenten con al menos 50 ventas en el último año.\n",
    "ultimo_anio = ventas.reduce(lambda x,y:x if x[0].year>y[0].year else y)[0].year\n",
    "\n",
    "#Me quedo con las ventas del ultimo anio\n",
    "ventas_ultimo_anio = ventas.filter(lambda x:x[0].year==ultimo_anio)\n",
    "\n",
    "#Cuento cuantas veces se vendio cada producto y saco los que tengan menos de 50\n",
    "ventas_totales = ventas_ultimo_anio.map(lambda x:(x[1],1)).reduceByKey(lambda x,y:x+y)\n",
    "ventas_mas_de_50 = ventas_totales.filter(lambda x:x[1]>=50).cache()\n",
    "\n",
    "#Me quedo con el id y el precio\n",
    "ventas_id_precio = ventas_ultimo_anio.map(lambda x: (x[1], x[2]))\n",
    "\n",
    "#Hago join para quedarme con los datos de los productos con 50 ventas o mas\n",
    "ventas_id_precio_mas_de_50 = ventas_id_precio.join(ventas_mas_de_50).\\\n",
    "                        map(lambda x:(x[0], x[1][0])).cache()#(id,precio)\n",
    "\n",
    "#Me fijo el maximo y minimo valor de cada producto\n",
    "menor_precio = ventas_id_precio_mas_de_50.reduceByKey(lambda x,y:x if x<y else y)\n",
    "mayor_precio = ventas_id_precio_mas_de_50.reduceByKey(lambda x,y:x if x>y else y)\n",
    "\n",
    "#Hago join para poder quedarme con el que tenga mayor diferencia\n",
    "menor_precio.join(mayor_precio).\\\n",
    "        reduce(lambda x,y: x if __builtin__.abs(x[1][1]-x[1][0]) > __builtin__.abs(y[1][1]-y[1][0]) else y)"
   ]
  },
  {
   "cell_type": "code",
   "execution_count": 11,
   "metadata": {},
   "outputs": [
    {
     "data": {
      "text/plain": [
       "('categoria_5', (21, 85))"
      ]
     },
     "execution_count": 11,
     "metadata": {},
     "output_type": "execute_result"
    }
   ],
   "source": [
    "#D: Idem anterior, pero calculando la categoría de productos que registró mayor variación \n",
    "#de precios en el último año.\n",
    "\n",
    "#Hago join de los productos con 50 ventas o mas del ultimo año y de la categoria\n",
    "categoria_y_precio = ventas_id_precio_mas_de_50.join(id_y_categoria).\\\n",
    "                        map(lambda x:(x[1][1], x[1][0]))#(categoria,precio)\n",
    "\n",
    "#Calculo el maximo y el minimo precio de cada categoria\n",
    "menor_precio_categoria = categoria_y_precio.reduceByKey(lambda x,y: x if x<y else y)\n",
    "mayor_precio_categoria = categoria_y_precio.reduceByKey(lambda x,y: x if x>y else y)\n",
    "categoria_menor_mayor = menor_precio_categoria.join(mayor_precio_categoria)#(categoria(menor_precio,mayor_precio))\n",
    "categoria_menor_mayor.reduce(lambda x,y: x if __builtin__.abs(x[1][1]-x[1][0])>__builtin__.abs(y[1][1]-y[1][0]) else y)"
   ]
  },
  {
   "cell_type": "code",
   "execution_count": null,
   "metadata": {},
   "outputs": [],
   "source": []
  }
 ],
 "metadata": {
  "kernelspec": {
   "display_name": "Python 3",
   "language": "python",
   "name": "python3"
  },
  "language_info": {
   "codemirror_mode": {
    "name": "ipython",
    "version": 3
   },
   "file_extension": ".py",
   "mimetype": "text/x-python",
   "name": "python",
   "nbconvert_exporter": "python",
   "pygments_lexer": "ipython3",
   "version": "3.8.3"
  }
 },
 "nbformat": 4,
 "nbformat_minor": 4
}
