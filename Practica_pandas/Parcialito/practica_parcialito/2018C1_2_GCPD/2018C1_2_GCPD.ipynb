{
 "cells": [
  {
   "cell_type": "code",
   "execution_count": 1,
   "metadata": {},
   "outputs": [],
   "source": [
    "#El GCPD recolecta la información de casos policiales que acontecen en Ciudad Gótica. Esta informacióñ \n",
    "#se encuentra guarada en un archivo con el siguiente formato: \n",
    "#(fecha, id_caso, descripción, estado_caso, categoria, latitud, longitud)\n",
    "#Los posibels estados que puede tener un caso son 1: caso abierto, 2: caso resuelto, 3: cerrado sin resolucion.\n",
    "#Las fechas se encuentran en el formato YYYY-MM-DD.\n",
    "#Por otro lado el comisionado Gordon guarda un registro detallado sobre en cuales casos fue activada la \n",
    "#batiseñal para pedir ayuda del vigilante, Batman. Esta información se encuentra en un archivo con el \n",
    "#siguiente formato (id_caso, respeusta), siendo campo respuesta si la señal tuvo una respuesta \n",
    "#positiva (1) o negativa (0) de parte de él.\n",
    "#El sector encargado de las estadísticas oficiales del GCPD quiere analizar las siguientes situaciones:\n",
    "#a) Las categorias que hayan incrementado su tasa de resolución al menos un 10% en el \n",
    "#último trimestre, con respecto al trimestre anterior.\n",
    "#b) Tasa de participación de Batman por categoria, para los delitos contra la propiedad (que \n",
    "#enmarcan las categorías incendio intencional, robo, hurto y robo de vehiculos)."
   ]
  },
  {
   "cell_type": "code",
   "execution_count": 3,
   "metadata": {},
   "outputs": [],
   "source": [
    "import pandas as pd\n",
    "import datetime as dt"
   ]
  },
  {
   "cell_type": "code",
   "execution_count": null,
   "metadata": {},
   "outputs": [],
   "source": [
    "casos[\"fecha\"]=pd.to_datetime(casos[\"fecha\"], errors=\"coerce\")\n",
    "casos.dropna(subset=[\"fecha\"], inplace=True)\n",
    "casos_ultimo_trimestre"
   ]
  }
 ],
 "metadata": {
  "kernelspec": {
   "display_name": "Python 3",
   "language": "python",
   "name": "python3"
  },
  "language_info": {
   "codemirror_mode": {
    "name": "ipython",
    "version": 3
   },
   "file_extension": ".py",
   "mimetype": "text/x-python",
   "name": "python",
   "nbconvert_exporter": "python",
   "pygments_lexer": "ipython3",
   "version": "3.8.3"
  }
 },
 "nbformat": 4,
 "nbformat_minor": 4
}
