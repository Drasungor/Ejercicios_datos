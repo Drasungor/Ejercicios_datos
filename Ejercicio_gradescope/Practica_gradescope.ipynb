{
 "cells": [
  {
   "cell_type": "code",
   "execution_count": 2,
   "metadata": {},
   "outputs": [],
   "source": [
    "import pandas as pd"
   ]
  },
  {
   "cell_type": "code",
   "execution_count": 39,
   "metadata": {},
   "outputs": [],
   "source": [
    "#1 Cargo los datos en el dataframe\n",
    "#Cargaria solo la columna pedida y filtrando lo maximo posible directamente pero el enunciado pide que \n",
    "#cargue el set de datos\n",
    "informacion_ejercicio = pd.read_csv(\"Entrenamieto_ECI_2020.csv\")"
   ]
  },
  {
   "cell_type": "code",
   "execution_count": 27,
   "metadata": {},
   "outputs": [
    {
     "data": {
      "text/html": [
       "<div>\n",
       "<style scoped>\n",
       "    .dataframe tbody tr th:only-of-type {\n",
       "        vertical-align: middle;\n",
       "    }\n",
       "\n",
       "    .dataframe tbody tr th {\n",
       "        vertical-align: top;\n",
       "    }\n",
       "\n",
       "    .dataframe thead th {\n",
       "        text-align: right;\n",
       "    }\n",
       "</style>\n",
       "<table border=\"1\" class=\"dataframe\">\n",
       "  <thead>\n",
       "    <tr style=\"text-align: right;\">\n",
       "      <th></th>\n",
       "      <th>ID</th>\n",
       "      <th>Territory</th>\n",
       "      <th>Delivery_Quarter</th>\n",
       "      <th>Delivery_Year</th>\n",
       "    </tr>\n",
       "  </thead>\n",
       "  <tbody>\n",
       "    <tr>\n",
       "      <th>2179</th>\n",
       "      <td>10808</td>\n",
       "      <td>None</td>\n",
       "      <td>Q2</td>\n",
       "      <td>2016</td>\n",
       "    </tr>\n",
       "    <tr>\n",
       "      <th>3667</th>\n",
       "      <td>8037</td>\n",
       "      <td>SE America</td>\n",
       "      <td>Q3</td>\n",
       "      <td>2017</td>\n",
       "    </tr>\n",
       "    <tr>\n",
       "      <th>2806</th>\n",
       "      <td>4909</td>\n",
       "      <td>UAE (Dubai)</td>\n",
       "      <td>Q1</td>\n",
       "      <td>2017</td>\n",
       "    </tr>\n",
       "    <tr>\n",
       "      <th>1933</th>\n",
       "      <td>10620</td>\n",
       "      <td>Kazakhstan</td>\n",
       "      <td>Q2</td>\n",
       "      <td>2016</td>\n",
       "    </tr>\n",
       "    <tr>\n",
       "      <th>2957</th>\n",
       "      <td>13709</td>\n",
       "      <td>Romania</td>\n",
       "      <td>Q2</td>\n",
       "      <td>2016</td>\n",
       "    </tr>\n",
       "    <tr>\n",
       "      <th>598</th>\n",
       "      <td>4865</td>\n",
       "      <td>France</td>\n",
       "      <td>Q4</td>\n",
       "      <td>2017</td>\n",
       "    </tr>\n",
       "    <tr>\n",
       "      <th>7898</th>\n",
       "      <td>15287</td>\n",
       "      <td>Belgium</td>\n",
       "      <td>Q1</td>\n",
       "      <td>2018</td>\n",
       "    </tr>\n",
       "    <tr>\n",
       "      <th>1817</th>\n",
       "      <td>10350</td>\n",
       "      <td>Romania</td>\n",
       "      <td>Q3</td>\n",
       "      <td>2017</td>\n",
       "    </tr>\n",
       "    <tr>\n",
       "      <th>3684</th>\n",
       "      <td>20848</td>\n",
       "      <td>Italy</td>\n",
       "      <td>Q4</td>\n",
       "      <td>2016</td>\n",
       "    </tr>\n",
       "    <tr>\n",
       "      <th>5669</th>\n",
       "      <td>17668</td>\n",
       "      <td>Germany</td>\n",
       "      <td>Q1</td>\n",
       "      <td>2017</td>\n",
       "    </tr>\n",
       "  </tbody>\n",
       "</table>\n",
       "</div>"
      ],
      "text/plain": [
       "         ID    Territory Delivery_Quarter  Delivery_Year\n",
       "2179  10808         None               Q2           2016\n",
       "3667   8037   SE America               Q3           2017\n",
       "2806   4909  UAE (Dubai)               Q1           2017\n",
       "1933  10620   Kazakhstan               Q2           2016\n",
       "2957  13709      Romania               Q2           2016\n",
       "598    4865       France               Q4           2017\n",
       "7898  15287      Belgium               Q1           2018\n",
       "1817  10350      Romania               Q3           2017\n",
       "3684  20848        Italy               Q4           2016\n",
       "5669  17668      Germany               Q1           2017"
      ]
     },
     "execution_count": 27,
     "metadata": {},
     "output_type": "execute_result"
    }
   ],
   "source": [
    "#2 Mostrar, para la región EMEA, los datos: ID, Territory, Delivery_Quarter,Delivery_Year para los 10\n",
    "#proyectos con mayor Total Amount\n",
    "\n",
    "#nlargest retorna un dataframe con la misma cantidad de columnas, ordenado de mayor a menor\n",
    "(informacion_ejercicio[informacion_ejercicio[\"Region\"] == \"EMEA\"].nlargest(10, [\"Total_Amount\"], \"all\")\n",
    "                                                 [[\"ID\", \"Territory\", \"Delivery_Quarter\", \"Delivery_Year\"]])"
   ]
  },
  {
   "cell_type": "code",
   "execution_count": 44,
   "metadata": {},
   "outputs": [
    {
     "data": {
      "text/plain": [
       "0.26467889908256864"
      ]
     },
     "execution_count": 44,
     "metadata": {},
     "output_type": "execute_result"
    }
   ],
   "source": [
    "# Tanto para el punto 2 como el 3 busqué alguna forma más eficiente que el indexado booleano para buscar líneas \n",
    "# que cumplan alguna condición, así no se recorre el data frame 2 veces y además no se guarda memoria para \n",
    "# la lista de bools. Encontré el método .query() pero me pareció \"muy SQL\" asique tal vez no les gustaba, \n",
    "# si pudieran aclararme cuál de los dos es el mejor lo agradecería. Terminé usando el indexado booleano \n",
    "\n",
    "#3 Calcular el promedio del precio (Columna: Price) para el territorio (Columna:Territory) cuyo \n",
    "# valor sea “Germany”\n",
    "\n",
    "#Lee los precios como string asique primero le asigno los valores casteados a numeros\n",
    "informacion_ejercicio[\"Price\"] = pd.to_numeric(informacion_ejercicio[\"Price\"], errors = \"coerce\")\n",
    "\n",
    "# Genero un data frame auxiliar con indexado booleano que filtra por territorio para que sea Germany y \n",
    "# no por valor de precio para que no se meta en la cuenta los nan ya que los ignora automaticamente\n",
    "informacion_ejercicio[informacion_ejercicio[\"Territory\"] == \"Germany\"][\"Price\"].mean()"
   ]
  },
  {
   "cell_type": "code",
   "execution_count": null,
   "metadata": {},
   "outputs": [],
   "source": []
  }
 ],
 "metadata": {
  "kernelspec": {
   "display_name": "Python 3",
   "language": "python",
   "name": "python3"
  },
  "language_info": {
   "codemirror_mode": {
    "name": "ipython",
    "version": 3
   },
   "file_extension": ".py",
   "mimetype": "text/x-python",
   "name": "python",
   "nbconvert_exporter": "python",
   "pygments_lexer": "ipython3",
   "version": "3.8.3"
  }
 },
 "nbformat": 4,
 "nbformat_minor": 4
}
