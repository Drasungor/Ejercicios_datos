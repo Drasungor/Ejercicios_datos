{
 "cells": [
  {
   "cell_type": "code",
   "execution_count": 4,
   "metadata": {},
   "outputs": [],
   "source": [
    "import pandas as pd\n",
    "from pyspark.sql import *"
   ]
  },
  {
   "cell_type": "code",
   "execution_count": 10,
   "metadata": {},
   "outputs": [],
   "source": [
    "spark = SparkSession.builder.getOrCreate()\n",
    "sc = spark.sparkContext\n",
    "viajes = SQLContext(sc).read.csv(\"viajes.csv\").rdd\n",
    "viajes = viajes.map(lambda x:(pd.to_numeric(x[0],\"coerce\"),pd.to_numeric(x[1],\"coerce\"),\\\n",
    "                              pd.to_numeric(x[2],\"coerce\"),pd.to_numeric(x[3],\"coerce\"),\\\n",
    "                              pd.to_datetime(x[4],\"coerce\"),pd.to_numeric(x[5],\"coerce\"))).cache()"
   ]
  },
  {
   "cell_type": "code",
   "execution_count": 15,
   "metadata": {},
   "outputs": [
    {
     "data": {
      "text/plain": [
       "(17, 920.0)"
      ]
     },
     "execution_count": 15,
     "metadata": {},
     "output_type": "execute_result"
    }
   ],
   "source": [
    "#UBER almacena en un cluster todos los datos sobre el movimiento y viajes de todos sus vehículos. \n",
    "#Existe un proceso que nos devuelve un RDD llamado trip_summary con los siguientes campos: \n",
    "#(driver_id, car_id, trip_id, customer_id, date (YYYYMMDD), distance_traveled), Programar usando \n",
    "#Py Spark un programa que nos indique cual fue el conductor con mayor promedio de distancia recorrida \n",
    "#por viaje para Abril de 2016.\n",
    "\n",
    "#RDD: (driver_id, car_id, trip_id, customer_id, date (YYYYMMDD), distance_traveled)\n",
    "abril_2019 = viajes.filter(lambda x: (x[4].year==2019)and(x[4].month==4))#Lo cambio a 2019 por el csv\n",
    "promedio_recorrido = abril_2019.map(lambda x:(x[0],(x[5],1))).reduceByKey(lambda x,y:(x[0]+y[0],x[1]+y[1])).\\\n",
    "        map(lambda x: (x[0],x[1][0]/x[1][1]))#(driver,promedio_distancia)\n",
    "promedio_recorrido.reduce(lambda x,y: x if x[1]>y[1] else y)"
   ]
  },
  {
   "cell_type": "code",
   "execution_count": null,
   "metadata": {},
   "outputs": [],
   "source": []
  }
 ],
 "metadata": {
  "kernelspec": {
   "display_name": "Python 3",
   "language": "python",
   "name": "python3"
  },
  "language_info": {
   "codemirror_mode": {
    "name": "ipython",
    "version": 3
   },
   "file_extension": ".py",
   "mimetype": "text/x-python",
   "name": "python",
   "nbconvert_exporter": "python",
   "pygments_lexer": "ipython3",
   "version": "3.8.3"
  }
 },
 "nbformat": 4,
 "nbformat_minor": 4
}
