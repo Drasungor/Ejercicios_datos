{
 "cells": [
  {
   "cell_type": "code",
   "execution_count": 1,
   "metadata": {},
   "outputs": [],
   "source": [
    "import pandas as pd\n",
    "from pyspark.sql import *"
   ]
  },
  {
   "cell_type": "code",
   "execution_count": 2,
   "metadata": {},
   "outputs": [],
   "source": [
    "spark = SparkSession.builder.getOrCreate()\n",
    "sc = spark.sparkContext\n",
    "sqlc = SQLContext(sc)\n",
    "\n",
    "muertes_policias = sqlc.read.csv(\"muertes.csv\",header=True).rdd\n",
    "muertes_policias = muertes_policias.map(lambda x:(x[0],pd.to_datetime(x[1],\"coerce\"),x[2],x[3],x[4])).cache()\n",
    "\n",
    "porcentaje_pobreza = sqlc.read.csv(\"pobreza.csv\",header=True).rdd\n",
    "porcentaje_pobreza = porcentaje_pobreza.map(lambda x:(x[0],x[1],pd.to_numeric(x[2],\"coerce\"))).cache()"
   ]
  },
  {
   "cell_type": "code",
   "execution_count": 3,
   "metadata": {},
   "outputs": [],
   "source": [
    "#muertes_policias: (name, date, race, city, state)\n",
    "#porcentaje_pobreza: (state, city, poverty_rate)"
   ]
  },
  {
   "cell_type": "code",
   "execution_count": 4,
   "metadata": {},
   "outputs": [
    {
     "data": {
      "text/plain": [
       "[('S3', (('Washington DC', 0.95), 0.4483333333333333)),\n",
       " ('S3', (('San Francisco', 0.89), 0.4483333333333333)),\n",
       " ('S3', (('New York', 0.1), 0.4483333333333333)),\n",
       " ('S1', (('New Jersey', 0.14), 0.44833333333333325)),\n",
       " ('S3', (('New Jersey', 0.15), 0.4483333333333333)),\n",
       " ('S2', (('New York', 0.65), 0.36666666666666664)),\n",
       " ('S2', (('Washington DC', 0.09), 0.36666666666666664)),\n",
       " ('S2', (('San Francisco', 0.11), 0.36666666666666664)),\n",
       " ('S1', (('San Francisco', 0.7), 0.44833333333333325)),\n",
       " ('S3', (('Chicago', 0.2), 0.4483333333333333))]"
      ]
     },
     "execution_count": 4,
     "metadata": {},
     "output_type": "execute_result"
    }
   ],
   "source": [
    "#A:\n",
    "porcentaje_pobreza_estado = porcentaje_pobreza.map(lambda x:(x[0],(x[2],1))).\\\n",
    "        reduceByKey(lambda x,y:(x[0]+y[0],x[1]+y[1])).\\\n",
    "        map(lambda x:(x[0],x[1][0]/x[1][1])).cache()#(estado,porcentaje prom)\n",
    "porcentaje_pobreza_ciudad = porcentaje_pobreza.map(lambda x:(x[0],(x[1],x[2])))#(estado,(ciudad,pobreza))\n",
    "porcentaje_pobreza_ciudad.join(porcentaje_pobreza_estado).\\\n",
    "        takeOrdered(10,lambda x:-__builtin__.abs(x[1][0][1]-x[1][1]))"
   ]
  },
  {
   "cell_type": "code",
   "execution_count": 5,
   "metadata": {},
   "outputs": [
    {
     "data": {
      "text/plain": [
       "[(0.37, 68), (0.45, 125)]"
      ]
     },
     "execution_count": 5,
     "metadata": {},
     "output_type": "execute_result"
    }
   ],
   "source": [
    "#B\n",
    "porcentaje_redondeado = porcentaje_pobreza_estado.\\\n",
    "        map(lambda x:(x[0],round(x[1],2)))#(estado, porcentaje prom redondeado)\n",
    "muertes_negras = muertes_policias.filter(lambda x:x[2]==\"Black\").map(lambda x:(x[4],1))#(estado,1)\n",
    "porcentaje_redondeado.join(muertes_negras).\\\n",
    "        map(lambda x:(x[1][0],x[1][1])).\\\n",
    "        reduceByKey(lambda x,y:x+y).collect()#(porcentaje pobreza, cantidad de muertes)"
   ]
  },
  {
   "cell_type": "code",
   "execution_count": null,
   "metadata": {},
   "outputs": [],
   "source": []
  }
 ],
 "metadata": {
  "kernelspec": {
   "display_name": "Python 3",
   "language": "python",
   "name": "python3"
  },
  "language_info": {
   "codemirror_mode": {
    "name": "ipython",
    "version": 3
   },
   "file_extension": ".py",
   "mimetype": "text/x-python",
   "name": "python",
   "nbconvert_exporter": "python",
   "pygments_lexer": "ipython3",
   "version": "3.8.3"
  }
 },
 "nbformat": 4,
 "nbformat_minor": 4
}
