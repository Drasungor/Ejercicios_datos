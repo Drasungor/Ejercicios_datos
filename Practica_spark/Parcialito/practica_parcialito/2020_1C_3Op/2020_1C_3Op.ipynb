{
 "cells": [
  {
   "cell_type": "code",
   "execution_count": 1,
   "metadata": {},
   "outputs": [],
   "source": [
    "import pandas as pd\n",
    "from pyspark.sql import *"
   ]
  },
  {
   "cell_type": "code",
   "execution_count": 2,
   "metadata": {},
   "outputs": [],
   "source": [
    "spark = SparkSession.builder.getOrCreate()\n",
    "sc = spark.sparkContext\n",
    "sqlc = SQLContext(sc)\n",
    "\n",
    "ventas = sqlc.read.csv(\"ventas.csv\",header=True).rdd\n",
    "ventas = ventas.map(lambda x:(pd.to_numeric(x[0],\"coerce\"),pd.to_numeric(x[1],\"coerce\"),\\\n",
    "                     pd.to_numeric(x[2],\"coerce\"),x[3],x[4],pd.to_numeric(x[5],\"coerce\"),\\\n",
    "                     pd.to_numeric(x[6],\"coerce\"),pd.to_numeric(x[7],\"coerce\"))).cache()\n",
    "\n",
    "productos = sqlc.read.csv(\"productos.csv\",header=True).rdd\n",
    "productos = productos.map(lambda x:(pd.to_numeric(x[0],\"coerce\"),x[1],x[2])).cache()"
   ]
  },
  {
   "cell_type": "code",
   "execution_count": 3,
   "metadata": {},
   "outputs": [],
   "source": [
    "#ventas: (id_producto,id_comprador,id_vendedor,pais,tiene_reclamo,año,mes,precio_local)\n",
    "#productos: (id_producto, titulo, categoria)"
   ]
  },
  {
   "cell_type": "code",
   "execution_count": 4,
   "metadata": {},
   "outputs": [],
   "source": [
    "#a)El precio promedio para cada producto de categoría “smartphone” vendido endiciembre de 2018 y diciembre \n",
    "#de 2019 en argentina\n",
    "smartphones = productos.filter(lambda x:x[2]==\"Smartphone\").\\\n",
    "        map(lambda x: (x[0],1))#(id_producto,1)\n",
    "ventas_argentina = ventas.filter(lambda x: x[3]==\"Argentina\").cache()\n",
    "ventas_2018 = ventas_argentina.filter(lambda x: x[5]==2018 and x[6]==12).\\\n",
    "        map(lambda x:(x[0],x[7]))#(id producto,precio)\n",
    "ventas_2019 = ventas_argentina.filter(lambda x: x[5]==2019 and x[6]==12).\\\n",
    "        map(lambda x:(x[0],x[7]))#(id producto,precio)\n",
    "promedio_ventas_2018 = ventas_2018.join(smartphones).reduceByKey(lambda x,y:(x[0]+y[0],x[1]+y[1])).\\\n",
    "        map(lambda x:(x[0],x[1][0]/x[1][1])).cache()#(id producto,precio promedio)\n",
    "promedio_ventas_2019 = ventas_2019.join(smartphones).reduceByKey(lambda x,y:(x[0]+y[0],x[1]+y[1])).\\\n",
    "        map(lambda x:(x[0],x[1][0]/x[1][1])).cache()#(id producto,precio promedio)"
   ]
  },
  {
   "cell_type": "code",
   "execution_count": 6,
   "metadata": {},
   "outputs": [
    {
     "data": {
      "text/plain": [
       "1.3088678611477653"
      ]
     },
     "execution_count": 6,
     "metadata": {},
     "output_type": "execute_result"
    }
   ],
   "source": [
    "#b) El promedio de la relación entre el precio de los productos (siempre para la categoríasmartphone) que \n",
    "#se vendieron en diciembre de 2018 y después en diciembre de 2019 enargentina. La relación puede calcularse \n",
    "#como promedio_dic_2019 / promedio_dic_2018para cada uno de los product_ids. Luego se pide el promedio de \n",
    "#las relaciones\n",
    "\n",
    "relaciones = promedio_ventas_2019.join(promedio_ventas_2018).\\\n",
    "        map(lambda x:(x[0],x[1][0]/x[1][1]))#(id producto,relacion)\n",
    "relaciones.reduce(lambda x,y:(x[0],x[1]+y[1]))[1]/relaciones.count()"
   ]
  },
  {
   "cell_type": "code",
   "execution_count": null,
   "metadata": {},
   "outputs": [],
   "source": []
  }
 ],
 "metadata": {
  "kernelspec": {
   "display_name": "Python 3",
   "language": "python",
   "name": "python3"
  },
  "language_info": {
   "codemirror_mode": {
    "name": "ipython",
    "version": 3
   },
   "file_extension": ".py",
   "mimetype": "text/x-python",
   "name": "python",
   "nbconvert_exporter": "python",
   "pygments_lexer": "ipython3",
   "version": "3.8.3"
  }
 },
 "nbformat": 4,
 "nbformat_minor": 4
}
