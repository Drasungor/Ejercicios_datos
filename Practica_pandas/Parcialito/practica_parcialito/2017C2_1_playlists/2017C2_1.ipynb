{
 "cells": [
  {
   "cell_type": "code",
   "execution_count": 3,
   "metadata": {},
   "outputs": [],
   "source": [
    "#Tenemos un dataframe con la información de distintas playlists armadas por usuarios con el formato \n",
    "#(playlist, song_id, description).\n",
    "\n",
    "#A su vez, contamos con un dataframe de canciones que contiene (song_id, singer, year, lenght, genres). \n",
    "#Se pide generar un programa en Pandas que indique para cada playlist cual es el cantante predominante \n",
    "#(con mas canciones incluidas dentro de esa lista)\n",
    "\n",
    "import pandas as pd"
   ]
  },
  {
   "cell_type": "code",
   "execution_count": 4,
   "metadata": {},
   "outputs": [],
   "source": [
    "playlists = pd.read_csv(\"playlists.csv\")\n",
    "canciones = pd.read_csv(\"singers.csv\")"
   ]
  },
  {
   "cell_type": "code",
   "execution_count": 6,
   "metadata": {},
   "outputs": [
    {
     "data": {
      "text/html": [
       "<div>\n",
       "<style scoped>\n",
       "    .dataframe tbody tr th:only-of-type {\n",
       "        vertical-align: middle;\n",
       "    }\n",
       "\n",
       "    .dataframe tbody tr th {\n",
       "        vertical-align: top;\n",
       "    }\n",
       "\n",
       "    .dataframe thead th {\n",
       "        text-align: right;\n",
       "    }\n",
       "</style>\n",
       "<table border=\"1\" class=\"dataframe\">\n",
       "  <thead>\n",
       "    <tr style=\"text-align: right;\">\n",
       "      <th></th>\n",
       "      <th>singer</th>\n",
       "    </tr>\n",
       "    <tr>\n",
       "      <th>playlist</th>\n",
       "      <th></th>\n",
       "    </tr>\n",
       "  </thead>\n",
       "  <tbody>\n",
       "    <tr>\n",
       "      <th>Playlist 1</th>\n",
       "      <td>Marcelo</td>\n",
       "    </tr>\n",
       "    <tr>\n",
       "      <th>Playlist 10</th>\n",
       "      <td>Riana</td>\n",
       "    </tr>\n",
       "    <tr>\n",
       "      <th>Playlist 2</th>\n",
       "      <td>Marcelo</td>\n",
       "    </tr>\n",
       "    <tr>\n",
       "      <th>Playlist 3</th>\n",
       "      <td>Marcelo</td>\n",
       "    </tr>\n",
       "    <tr>\n",
       "      <th>Playlist 4</th>\n",
       "      <td>Riana</td>\n",
       "    </tr>\n",
       "    <tr>\n",
       "      <th>Playlist 5</th>\n",
       "      <td>Marcelo</td>\n",
       "    </tr>\n",
       "    <tr>\n",
       "      <th>Playlist 6</th>\n",
       "      <td>Riana</td>\n",
       "    </tr>\n",
       "    <tr>\n",
       "      <th>Playlist 7</th>\n",
       "      <td>Riana</td>\n",
       "    </tr>\n",
       "    <tr>\n",
       "      <th>Playlist 8</th>\n",
       "      <td>Riana</td>\n",
       "    </tr>\n",
       "    <tr>\n",
       "      <th>Playlist 9</th>\n",
       "      <td>Riana</td>\n",
       "    </tr>\n",
       "  </tbody>\n",
       "</table>\n",
       "</div>"
      ],
      "text/plain": [
       "              singer\n",
       "playlist            \n",
       "Playlist 1   Marcelo\n",
       "Playlist 10    Riana\n",
       "Playlist 2   Marcelo\n",
       "Playlist 3   Marcelo\n",
       "Playlist 4     Riana\n",
       "Playlist 5   Marcelo\n",
       "Playlist 6     Riana\n",
       "Playlist 7     Riana\n",
       "Playlist 8     Riana\n",
       "Playlist 9     Riana"
      ]
     },
     "execution_count": 6,
     "metadata": {},
     "output_type": "execute_result"
    }
   ],
   "source": [
    "info_relevante = playlists[[\"playlist\", \"song_id\"]].merge(canciones[[\"song_id\", \"singer\"]], \\\n",
    "                                                          on=\"song_id\", how=\"inner\")\n",
    "info_relevante.groupby(\"playlist\").agg({\"singer\":lambda x:x.mode()})"
   ]
  },
  {
   "cell_type": "code",
   "execution_count": null,
   "metadata": {},
   "outputs": [],
   "source": []
  }
 ],
 "metadata": {
  "kernelspec": {
   "display_name": "Python 3",
   "language": "python",
   "name": "python3"
  },
  "language_info": {
   "codemirror_mode": {
    "name": "ipython",
    "version": 3
   },
   "file_extension": ".py",
   "mimetype": "text/x-python",
   "name": "python",
   "nbconvert_exporter": "python",
   "pygments_lexer": "ipython3",
   "version": "3.8.3"
  }
 },
 "nbformat": 4,
 "nbformat_minor": 4
}
