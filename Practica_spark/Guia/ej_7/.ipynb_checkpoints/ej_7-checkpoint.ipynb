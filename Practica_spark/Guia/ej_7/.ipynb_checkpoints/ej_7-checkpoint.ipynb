{
 "cells": [
  {
   "cell_type": "code",
   "execution_count": 6,
   "metadata": {},
   "outputs": [],
   "source": [
    "import pandas as pd\n",
    "from pyspark.sql import *\n",
    "\n",
    "spark = SparkSession.builder.getOrCreate()\n",
    "sc = spark.sparkContext\n",
    "chats = SQLContext(sc).read.csv(\"chats.csv\").rdd\n",
    "chats = chats.map(lambda x:(pd.to_numeric(x[0]),pd.to_numeric(x[1]),x[2],x[3])).cache()"
   ]
  },
  {
   "cell_type": "code",
   "execution_count": 11,
   "metadata": {},
   "outputs": [
    {
     "data": {
      "text/plain": [
       "(19, ('mastodonte', 34))"
      ]
     },
     "execution_count": 11,
     "metadata": {},
     "output_type": "execute_result"
    }
   ],
   "source": [
    "#Una red social almacena el contenido de los chats entre sus usuarios en un RDD que tiene registros con \n",
    "#el siguiente formato: (chat_id, user_id, nickname, text). Queremos saber cuál es el usuario \n",
    "#(user_id) que mas preguntas hace en sus chats, contabilizamos una pregunta por cada caracter \n",
    "#“?” que aparezca en el campo text. Programar en Spark un programa que identifique al usuario preguntón.\n",
    "\n",
    "mensajes_con_pregunta = chats.filter(lambda x:\"?\" in x[3]).\\\n",
    "        map(lambda x:(x[1],(x[2],x[3].count(\"?\"))))#(id_usuario,(nickname,cantidad_de_preguntas))\n",
    "preguntas_totales = mensajes_con_pregunta.reduceByKey(lambda x,y:(x[0],x[1]+y[1]))\n",
    "preguntas_totales.reduce(lambda x,y:x if x[1][1]>y[1][1] else y)"
   ]
  },
  {
   "cell_type": "code",
   "execution_count": null,
   "metadata": {},
   "outputs": [],
   "source": []
  }
 ],
 "metadata": {
  "kernelspec": {
   "display_name": "Python 3",
   "language": "python",
   "name": "python3"
  },
  "language_info": {
   "codemirror_mode": {
    "name": "ipython",
    "version": 3
   },
   "file_extension": ".py",
   "mimetype": "text/x-python",
   "name": "python",
   "nbconvert_exporter": "python",
   "pygments_lexer": "ipython3",
   "version": "3.8.3"
  }
 },
 "nbformat": 4,
 "nbformat_minor": 4
}
