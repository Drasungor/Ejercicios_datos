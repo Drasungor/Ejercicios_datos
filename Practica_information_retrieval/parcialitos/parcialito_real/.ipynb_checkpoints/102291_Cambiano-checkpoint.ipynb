{
 "cells": [
  {
   "cell_type": "markdown",
   "metadata": {},
   "source": [
    "a) Resolver la consulta “aquel arbusto azul” indicando detalladamente cada paso. Informar lacantidad de accesos a disco necesarios para la resolución de la misma"
   ]
  },
  {
   "cell_type": "markdown",
   "metadata": {},
   "source": [
    "Se buscan los términos \"aquel arbusto azul\", es decir, los documentos que contengan estos términos simultáneamente. Para hacer esto se buscan primero los documentos que contengan cada término de la frase y luego se hace un AND para los documentos recuperados (para quedarse así con aquellos que contienen todos los términos de la frase)."
   ]
  },
  {
   "cell_type": "markdown",
   "metadata": {},
   "source": [
    "Se comienza entonces buscando los documentos en los que se encuentra \n",
    "el término \"aquel\", se realiza búsqueda binaria para conseguir esa\n",
    "información.\n",
    "\n",
    "i = int((0+6)/2)=3\n",
    "\n",
    "Se lee la posición 3. Se tiene un acceso a disco para leer el término \"aquel\" (no se comparten caracteres con algun término anterior). Como es el término buscado se hace también un acceso a índice para la siguiente posición (i=4) para saber hasta dónde llega el puntero del documento, y luego se hace un acceso a disco para obtener la información de los punteros a documentos. Se tienen entonces para este\n",
    "término 2 accesos a disco.\n",
    "\n",
    "Se tiene entonces en la información de los documentos:\n",
    "1  \n",
    "Esto quiere decir que el término \"aquel\" se encuentra en el documento 1."
   ]
  },
  {
   "cell_type": "markdown",
   "metadata": {},
   "source": [
    "Se analiza ahora el término \"arbusto\":\n",
    "\n",
    "i = int((0+6)/2)=3 \n",
    "\n",
    "Se tiene un acceso a índice y otro a disco para leer el término, que\n",
    "resulta ser \"aquel\", como está ordenado alfabéticamente se sabe que\n",
    "i debe ser mayor en la siguiente iteración.\n",
    "\n",
    "i = int((4+6)/2)=5\n",
    "\n",
    "Se tiene un acceso a índice y se ve que se tienen en común 3 caracteres con el término anterior, y este 1 con el anterior, por lo que se tienen otros 2 accesos a disco, además del acceso a disco utilizado para saber el final de la palabra buscada (esto podría ser optimizado para tener un único acceso a disco que tome todos los caracteres necesarios, y de allí formar la palabra final, pero se asume que esto no se hace). Se llega así al término \"arbusto\" (\"a\"+\"rb\"+\"usto\"). Luego se tiene otro acceso a índice para la siguiente posición (i=6) para saber hasta dónde leer para el puntero a documentos. Y finalmente se tiene otro acceso a disco para leer la información de los documentos. Se tuvieron entonces para conseguir la información de este término 4 accesos a disco.\n",
    "\n",
    "La información de los documentos es entonces:\n",
    "1010  \n",
    "1 = 1, 010 = 2\n",
    "\n",
    "Lo cual indica que el término \"arbusto\" se encuentra en los documentos 1 y el que está a distancia 2 de 1. Es decir los documentos 1 y 3."
   ]
  },
  {
   "cell_type": "markdown",
   "metadata": {},
   "source": [
    "Se analiza ahora el término \"azul\"\n",
    "\n",
    "i = int((0+6)/2)=3\n",
    "\n",
    "Se tiene un acceso a disco para leer el término, que resulta ser \"aquel\", como está ordenado alfabéticamente se sabe que i debe ser mayor en la siguiente iteración.\n",
    "\n",
    "i = int((4+6)/2)=5\n",
    "\n",
    "Se tiene 3 accesos a disco para leer el término, que resulta ser \"arbusto\", como está ordenado alfabéticamente se sabe que i debe ser mayor en la siguiente iteración.\n",
    "\n",
    "i = int((6+6)/2)=6\n",
    "\n",
    "Se tiene 1 acceso a índice ya que no se necesitan caracteres del \n",
    "término anterior. Se tienen entonces 2 accesos a disco, para leer el término y\n",
    "para leer la información de los documentos. Se tiene así para obtener toda la información sobre \"azul\"\n",
    " un total de 5 accesos a disco.\n",
    "\n",
    "La información de los documentos es entonces: 10101  \n",
    "1 = 1, 010 = 2, 1 = 1\n",
    "\n",
    "Lo cual indica que el término se encuentra en los documentos 1, el que está a distancia 2 de 1 y el que está a distancia 1 de este último. Es\n",
    "decir los documentos 1, 3 y 4."
   ]
  },
  {
   "cell_type": "markdown",
   "metadata": {},
   "source": [
    "Se sabe entonces que los términos están en los documentos:\n",
    "\n",
    "aquel: 1  \n",
    "arbusto: 1 y 3  \n",
    "azul: 1, 3 y 4 \n",
    "\n",
    "Puede verse entonces que el único documento que contiene todos los\n",
    "términos buscados es el documento 1. Como no es una consulta por frase \n",
    "no importa que los términos se encuentren exactamente en el orden pedido, por lo que basta con que se encuentren en el documento los 3\n",
    "términos al mismo tiempo. Es por esto que el documento 1 es la resolución de la consulta.\n",
    "\n",
    "Puede verse también que se realizaron 2+4+5=11 accesos a disco para resolver esta consulta."
   ]
  },
  {
   "cell_type": "code",
   "execution_count": null,
   "metadata": {},
   "outputs": [],
   "source": []
  },
  {
   "cell_type": "markdown",
   "metadata": {},
   "source": [
    "b) Para la consulta rankeada \"aquel arbusto azul\" determinar el TF.IDF de cada documento resultado de la búsqueda e indicar cómo quedaría el orden de los documentos resultado dela misma."
   ]
  },
  {
   "cell_type": "markdown",
   "metadata": {},
   "source": [
    "Como no hay en el índice información sobre la frecuencia de los \n",
    "términos en los distintos documentos en los que están presentes,\n",
    "se debe usar el TF de BOW (bag of words), que toma como valores de TF\n",
    "un 1 si el término se encuentra en el documento y un 0 si no se \n",
    "encuentra el término en el documento. Puede verse que de esta forma\n",
    "el peso de los documentos se determina por la suma de la importancia\n",
    "de los términos buscados presentes en ese documento."
   ]
  },
  {
   "cell_type": "markdown",
   "metadata": {},
   "source": [
    "Los documentos que resultarían de la búsqueda son aquellos que \n",
    "contengan al menos 1 de los términos buscados en la consulta (ya que si no se contiene ningún término el\n",
    "TF dará para todos los términos 0, resultando en un peso final de 0, el cual indica que no se tiene ningún\n",
    "término en el documento). Puede\n",
    "usarse parte del desarrollo del ejercicio a para ver que los \n",
    "documentos que contienen algún término son 1, 3 y 4 (ver los \n",
    "documentos que contienen a cada término).\n",
    "\n",
    "Se calculan los IDF de cada término buscado:  \n",
    "\"aquel\": log((N+1)/1) = log(N+1) (solo aparece en 1 documento)  \n",
    "\"arbusto\": log((N+1)/2) (aparece en 2 documentos)  \n",
    "\"azul\": log((N+1)/3) (aparece en 3 documentos)  \n",
    "Donde N es la cantidad de documentos del conjunto."
   ]
  },
  {
   "cell_type": "markdown",
   "metadata": {},
   "source": [
    "Se pasa a calcular entonces el peso de los documentos:\n",
    "    \n",
    "      W(\"aquel\") + W(\"arbusto\") + W(\"azul\")\n",
    "    \n",
    "W(D1)= 1.log(N+1) + 1.log((N+1)/2) + 1.log((N+1)/3) = \n",
    "log(N+1) + log((N+1)/2) + log((N+1)/3)  \n",
    "W(D3)= 0.log(N+1) + 1.log((N+1)/2) + 1.log((N+1)/3) = \n",
    "log((N+1)/2) + log((N+1)/3)  \n",
    "W(D4)= 0.log(N+1) + 0.log((N+1)/2) + 1.log((N+1)/3) = \n",
    "log((N+1)/3)\n",
    "\n",
    "Se tiene entonces que (Siendo W(Di) el TF.IDF del documento i):  \n",
    "W(D1)=log(N+1) + log((N+1)/2) + log((N+1)/3)  \n",
    "W(D3)=log((N+1)/2) + log((N+1)/3)  \n",
    "W(D4)=log((N+1)/3)  \n",
    "\n",
    "Se trabaja con valores tales que el argumento del logaritmo siempre\n",
    "es mayor que 1, por lo que el resultado nunca es negativo. Es por esto\n",
    "que siempre que se esté sumando 2 términos el resultado será mayor\n",
    "que si no se suma alguno de esos términos. Puede verse entonces que\n",
    "log(N+1) + log((N+1)/2) + log((N+1)/3) > log((N+1)/2) + log((N+1)/3) > log((N+1)/3). Se tiene\n",
    "así el orden de los documentos debido a la consulta:\n",
    "\n",
    "1)D1  \n",
    "2)D3  \n",
    "3)D4"
   ]
  },
  {
   "cell_type": "code",
   "execution_count": null,
   "metadata": {},
   "outputs": [],
   "source": []
  }
 ],
 "metadata": {
  "kernelspec": {
   "display_name": "Python 3",
   "language": "python",
   "name": "python3"
  },
  "language_info": {
   "codemirror_mode": {
    "name": "ipython",
    "version": 3
   },
   "file_extension": ".py",
   "mimetype": "text/x-python",
   "name": "python",
   "nbconvert_exporter": "python",
   "pygments_lexer": "ipython3",
   "version": "3.8.3"
  }
 },
 "nbformat": 4,
 "nbformat_minor": 4
}
