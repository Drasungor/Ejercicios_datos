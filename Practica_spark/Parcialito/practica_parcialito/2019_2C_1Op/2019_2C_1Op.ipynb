{
 "cells": [
  {
   "cell_type": "code",
   "execution_count": 1,
   "metadata": {},
   "outputs": [],
   "source": [
    "import pandas as pd\n",
    "from pyspark.sql import *"
   ]
  },
  {
   "cell_type": "code",
   "execution_count": 2,
   "metadata": {},
   "outputs": [],
   "source": [
    "spark = SparkSession.builder.getOrCreate()\n",
    "sc = spark.sparkContext\n",
    "\n",
    "jugadores = spark.read.csv(\"players.csv\",header=True).rdd\n",
    "jugadores = jugadores.map(lambda x:(pd.to_numeric(x[0],\"coerce\"),x[1],pd.to_datetime(x[2],\"coerce\"),x[3])).cache()\n",
    "\n",
    "estadisticas = spark.read.csv(\"stats.csv\",header=True).rdd\n",
    "estadisticas = estadisticas.map(lambda x:(pd.to_numeric(x[0],\"coerce\"),pd.to_numeric(x[1],\"coerce\"),\\\n",
    "                             pd.to_numeric(x[2],\"coerce\"),pd.to_numeric(x[3],\"coerce\"),\\\n",
    "                             pd.to_numeric(x[4],\"coerce\"))).cache()\n",
    "\n",
    "partidos = spark.read.csv(\"matches.csv\",header=True).rdd\n",
    "partidos = partidos.map(lambda x:(pd.to_numeric(x[0],\"coerce\"),pd.to_numeric(x[1],\"coerce\"),\\\n",
    "                       pd.to_numeric(x[2],\"coerce\"),pd.to_numeric(x[3],\"coerce\"),x[4],x[5])).cache()"
   ]
  },
  {
   "cell_type": "code",
   "execution_count": 3,
   "metadata": {},
   "outputs": [],
   "source": [
    "#jugadores: (ID_JUGADOR,Nombre_apellido,fecha_nacimiento,país)\n",
    "#estadisticas: (ID_PARTIDO,ID_JUGADOR,tiempo_juego,distancia_recorrida, goles)\n",
    "#partidos: (ID_PARTIDO,año,semestre,nro_fecha,equipo_local, equipo_visitante)"
   ]
  },
  {
   "cell_type": "code",
   "execution_count": null,
   "metadata": {},
   "outputs": [],
   "source": [
    "def generar_registros(x):\n",
    "    if x[0][1]==1:\n",
    "        return [x,((x[0][0]-1,2,x[0][2]),x[1])]\n",
    "    return [x,((x[0][0],1,x[0][2]),x[1])]\n",
    "    \n",
    "jugadores_argentina = jugadores.filter(lambda x:(lambda x: x[3]==\"Argentina\")).\\\n",
    "        map(lambda x:(x[0],x[1]))#(id,nombre y apellido)\n",
    "semestre_partidos = partidos.map(lambda x:(x[0],(x[1],x[2])))#(id partido,(año,semestre))\n",
    "jugador_anio_semestre = estadisticas.map(lambda x:(x[0],(x[1],x[2]))).\\\n",
    "        join(semestre_partidos)#(id partido,((id jugador,tiempo de juego),(año,semestre)))\n",
    "tiempo_jugador_semestre = jugador_anio_semestre.\\\n",
    "        map(lambda x:((x[1][1][0],x[1][1][1],x[1][0][0]),x[1][0][1]))#((año,semestre,id jugador),tiempo de juego)\n",
    "tiempo_total_semestre = tiempo_jugador_semestre.\\\n",
    "        reduceByKey(lambda x,y:x+y)#((año,semestre,id jugador),tiempo de juego)\n",
    "tiempo_total_semestre.flatMap(generar_registros).reduceByKey()\n",
    "\n",
    "mal mal mal mal mal mal mal mal mal mal mal"
   ]
  }
 ],
 "metadata": {
  "kernelspec": {
   "display_name": "Python 3",
   "language": "python",
   "name": "python3"
  },
  "language_info": {
   "codemirror_mode": {
    "name": "ipython",
    "version": 3
   },
   "file_extension": ".py",
   "mimetype": "text/x-python",
   "name": "python",
   "nbconvert_exporter": "python",
   "pygments_lexer": "ipython3",
   "version": "3.8.3"
  }
 },
 "nbformat": 4,
 "nbformat_minor": 4
}
