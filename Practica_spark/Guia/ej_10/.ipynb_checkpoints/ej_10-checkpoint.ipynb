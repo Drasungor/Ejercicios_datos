{
 "cells": [
  {
   "cell_type": "code",
   "execution_count": 1,
   "metadata": {},
   "outputs": [],
   "source": [
    "import pandas as pd\n",
    "from pyspark.sql import *"
   ]
  },
  {
   "cell_type": "code",
   "execution_count": 2,
   "metadata": {},
   "outputs": [],
   "source": [
    "#A partir de la plataforma online (e-shop) de los países en los que opera, Nintendo tiene información \n",
    "#de ventas de videojuegos diarias digitales por país en el siguiente RDD: \n",
    "#(id_videojuego, codigo_pais, fecha, visitas_diarias, total_ventas_diarias). Por otro lado se tienen otro \n",
    "#RDD que tiene información de todos los videojuegos que se venden en su plataforma con el siguiente \n",
    "#formato (id_videojuego, titulo, rating_pegi, rating_esbr). Tener en cuenta que un mismo videojuego \n",
    "#se puede vender en distintos países y esos nos permitirá obtener métricas a nivel global. Con esta \n",
    "#información escribir un programa en pySpark que permita: \n",
    "\n",
    "spark = SparkSession.builder.getOrCreate()\n",
    "sc = spark.sparkContext\n",
    "sqlc = SQLContext(sc)\n",
    "ventas = sqlc.read.csv(\"ventas.csv\").rdd\n",
    "juegos = sqlc.read.csv(\"juegos.csv\").rdd\n",
    "ventas = ventas.map(lambda x:(pd.to_numeric(x[0],\"coerce\"), pd.to_numeric(x[1],\"coerce\"),\\\n",
    "                             pd.to_datetime(x[2],\"coerce\"),pd.to_numeric(x[3],\"coerce\"),\\\n",
    "                             pd.to_numeric(x[4],\"coerce\"))).cache()\n",
    "juegos = juegos.map(lambda x:(pd.to_numeric(x[0],\"coerce\"),x[1],pd.to_numeric(x[2],\"coerce\"),\\\n",
    "                              pd.to_numeric(x[3],\"coerce\"))).cache()"
   ]
  },
  {
   "cell_type": "code",
   "execution_count": 3,
   "metadata": {},
   "outputs": [
    {
     "data": {
      "text/plain": [
       "[(4, 'nwbal', 644600)]"
      ]
     },
     "execution_count": 3,
     "metadata": {},
     "output_type": "execute_result"
    }
   ],
   "source": [
    "#a) Obtener el videojuego con más ventas \n",
    "#digitales globales (es decir en todos los países) en un RDD con el siguiente formato: \n",
    "#(id_videojuego, titulo, total), siendo total la cantidad total de ventas digitales globales\n",
    "\n",
    "id_y_nombre = juegos.map(lambda x:(x[0],x[1]))#(id_juego,nombre)\n",
    "id_y_ventas = ventas.map(lambda x:(x[0],x[4]))#(id,ventas diarias)\n",
    "id_ventas_totales = id_y_ventas.reduceByKey(lambda x,y:x+y)\n",
    "juego_mas_vendido = id_ventas_totales.reduce(lambda x,y: x if x[1]>y[1] else y)\n",
    "rdd_juego_mas_vendido = sc.parallelize([juego_mas_vendido])\n",
    "rdd_mas_vendido_final = rdd_juego_mas_vendido.leftOuterJoin(id_y_nombre).\\\n",
    "                                map(lambda x:(x[0],x[1][1],x[1][0])).cache()\n",
    "rdd_mas_vendido_final.collect()"
   ]
  },
  {
   "cell_type": "code",
   "execution_count": 5,
   "metadata": {},
   "outputs": [
    {
     "data": {
      "text/plain": [
       "(4, (37899, 62505))"
      ]
     },
     "execution_count": 5,
     "metadata": {},
     "output_type": "execute_result"
    }
   ],
   "source": [
    "#b) Para el videojuego con mas ventas, obtener cual es el país para el cual ser registra una \n",
    "#mayor tasa de conversión (es decir, mayor total_ventas_diarias / visitas_diarias)\n",
    "id_mas_vendido = rdd_mas_vendido_final.first()[0]\n",
    "ventas_mas_vendido_por_pais = ventas.filter(lambda x:x[0]==id_mas_vendido)\n",
    "ventas_mas_vendido_por_pais.map(lambda x:(x[1],(x[4],x[3]))).reduceByKey(lambda x,y:(x[0]+y[0],x[1]+y[1])).\\\n",
    "            reduce(lambda x,y:x if x[1][0]/x[1][1]>y[1][0]/y[1][1] else y)"
   ]
  },
  {
   "cell_type": "code",
   "execution_count": null,
   "metadata": {},
   "outputs": [],
   "source": []
  }
 ],
 "metadata": {
  "kernelspec": {
   "display_name": "Python 3",
   "language": "python",
   "name": "python3"
  },
  "language_info": {
   "codemirror_mode": {
    "name": "ipython",
    "version": 3
   },
   "file_extension": ".py",
   "mimetype": "text/x-python",
   "name": "python",
   "nbconvert_exporter": "python",
   "pygments_lexer": "ipython3",
   "version": "3.8.3"
  }
 },
 "nbformat": 4,
 "nbformat_minor": 4
}
