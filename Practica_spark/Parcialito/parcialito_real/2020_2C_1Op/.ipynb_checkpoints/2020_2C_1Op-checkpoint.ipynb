{
 "cells": [
  {
   "cell_type": "code",
   "execution_count": null,
   "metadata": {},
   "outputs": [],
   "source": [
    "import pandas as pd\n",
    "from pyspark.sql import *"
   ]
  },
  {
   "cell_type": "code",
   "execution_count": null,
   "metadata": {},
   "outputs": [],
   "source": [
    "#Cargo mis archivos de prueba, no pertenece al ejercicio\n",
    "\n",
    "spark = SparkSession.builder.getOrCreate()\n",
    "sc = spark.sparkContext\n",
    "\n",
    "recetas = spark.read.csv(\"recetas.csv\",header=True).rdd\n",
    "recetas = recetas.map(lambda x:(pd.to_numeric(x[0],\"coerce\"),x[1],x[2]))\n",
    "\n",
    "ingredientes = spark.read.csv(\"ingredientes.csv\",header=True).rdd\n",
    "ingredientes = ingredientes.map(lambda x:(pd.to_numeric(x[0],\"coerce\"),x[1],pd.to_numeric(x[2],\"coerce\")))"
   ]
  },
  {
   "cell_type": "code",
   "execution_count": null,
   "metadata": {},
   "outputs": [],
   "source": [
    "#recetas: (ID_Receta, Nombre, Categoría)\n",
    "#ingredientes : (ID_Receta, Ingrediente, Cantidad_Kg)"
   ]
  },
  {
   "cell_type": "code",
   "execution_count": null,
   "metadata": {},
   "outputs": [],
   "source": [
    "#A: Listar todos los ingredientes que aparecen en alguna receta que usa \"pollo\" indicando en cuantas \n",
    "#recetas el ingrediente y pollo aparecen juntos. El formato de salida es (ingrediente,cantidad de recetas \n",
    "#en que aparece junto con pollo).  Por ejemplo, la papa aparece en 10 recetas con pollo, por lo que \n",
    "#tendríamos (papa, 10).\n",
    "\n",
    "recetas_con_pollo = ingredientes.filter(lambda x:x[1]==\"pollo\").map(lambda x:(x[0],1))#(id receta,1)\n",
    "recetas_sin_pollo = ingredientes.filter(lambda x:x[1]!=\"pollo\")#saco los pollos de las recetas, no tiene sentido\n",
    "                                                               #contar el pollo con si mismo\n",
    "\n",
    "id_e_ingrediente = recetas_sin_pollo.map(lambda x:(x[0],x[1]))#(id_receta,ingrediente)\n",
    "recetas_que_usan_pollo = id_e_ingrediente.join(recetas_con_pollo)#(id_receta,(ingrediente,1))\n",
    "\n",
    "#los ingredientes no se repiten dentro de una misma receta, asique se que todos los ingredientes que aparecen\n",
    "#n veces es porque estan en n recetas. Ademas como hice un inner join con las recetas que tienen pollo, se que\n",
    "#por cada aparicion del ingrediente ese ingrediente esta con pollo\n",
    "recetas_que_usan_pollo.map(lambda x:(x[1][0],1)).reduceByKey(lambda x,y:x+y).collect()"
   ]
  },
  {
   "cell_type": "code",
   "execution_count": null,
   "metadata": {},
   "outputs": [],
   "source": [
    "#B: Queremos obtener todos los nombres de recetas Mediterráneas que no tengan ni papa ni pollo entre \n",
    "#sus ingredientes.\n",
    "\n",
    "recetas_mediterraneas = recetas.filter(lambda x:x[2]==\"Mediterránea\").map(lambda x:(x[0],x[1]))#(id receta,nombre)\n",
    "\n",
    "recetas_con_papa_o_pollo = ingredientes.filter(lambda x: (x[1]==\"pollo\")or(x[1]==\"papa\")).\\\n",
    "        map(lambda x: (x[0],1))\n",
    "\n",
    "#Saco todas las recetas que usaron pollo o papa, para eso primero busco las que lo usaron y se las saco a\n",
    "#ingredientes original, no puedo simplemente filtrar por si tiene papa o pollo porque sino solo estoy sacando\n",
    "#esos ingredientes, y queda el resto de la receta como si no los tuviera, cuando originalmente si los tenia\n",
    "#Cons substract me aseguro que no tenga recetas que usaron pollo o papa, despues distinct me deja solo\n",
    "#los registros que no se repiten, para que no tenga la receta mas de 1 vez\n",
    "recetas_sin_papa_ni_pollo = ingredientes.map(lambda x:(x[0],1)).subtract(recetas_con_papa_o_pollo).distinct()\n",
    "\n",
    "#Hago un join para tener el nombre para las recetas que \n",
    "recetas_pedidas = recetas_sin_papa_ni_pollo.join(recetas_mediterraneas)#(id_receta,(1,nombre))\n",
    "\n",
    "recetas_pedidas.map(lambda x:x[1][1]).collect()"
   ]
  },
  {
   "cell_type": "code",
   "execution_count": null,
   "metadata": {},
   "outputs": [],
   "source": []
  }
 ],
 "metadata": {
  "kernelspec": {
   "display_name": "Python 3",
   "language": "python",
   "name": "python3"
  },
  "language_info": {
   "codemirror_mode": {
    "name": "ipython",
    "version": 3
   },
   "file_extension": ".py",
   "mimetype": "text/x-python",
   "name": "python",
   "nbconvert_exporter": "python",
   "pygments_lexer": "ipython3",
   "version": "3.8.3"
  }
 },
 "nbformat": 4,
 "nbformat_minor": 4
}
