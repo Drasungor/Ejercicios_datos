{
 "cells": [
  {
   "cell_type": "code",
   "execution_count": 8,
   "metadata": {},
   "outputs": [],
   "source": [
    "import pandas as pd\n",
    "from pyspark.sql import *"
   ]
  },
  {
   "cell_type": "code",
   "execution_count": 15,
   "metadata": {},
   "outputs": [],
   "source": [
    "spark = SparkSession.builder.getOrCreate()\n",
    "sc = spark.sparkContext\n",
    "autos = SQLContext(sc).read.csv(\"autos.csv\").rdd\n",
    "autos = autos.map(lambda x: (x[0], x[1], x[2], \\\n",
    "                   pd.to_numeric(x[3], \"coerce\"), x[4], x[5], pd.to_datetime(x[6], \"coerce\"))).cache()"
   ]
  },
  {
   "cell_type": "code",
   "execution_count": 17,
   "metadata": {},
   "outputs": [
    {
     "data": {
      "text/plain": [
       "[('pickup', ('Volkswagen_2', 1)),\n",
       " ('auto', ('Ferrari_1', 1)),\n",
       " ('camion', ('Ferrari_1', 1))]"
      ]
     },
     "execution_count": 17,
     "metadata": {},
     "output_type": "execute_result"
    }
   ],
   "source": [
    "#Se cuenta con un RDD con información sobre patentamientos de autos con la siguiente información \n",
    "#(patente, marca, modelo, versión, tipo_vehiculo, provincia, fecha), donde tipo_vehiculo indica \n",
    "#si la unidad patentada es auto, pickup, camión o moto. Se pide generar un programa en pySpark \n",
    "#que indique la marca y modelo del auto más patentado por tipo de vehículo en la provincia de \n",
    "#Buenos Aires en el mes de Abril de 2017.\n",
    "\n",
    "bs_as_abril_2019 = autos.filter(lambda x: (x[6].year == 2019) and (x[6].month == 4) and (x[5] == \"Buenos Aires\"))\n",
    "cantidad_patentes_por_tipo = bs_as_abril_2019.map(lambda x: ((x[4],x[1]+\"_\"+x[2]),1)).\\\n",
    "                                    reduceByKey(lambda x,y:x+y)#((tipo,modelo y marca),cantidad)\n",
    "cantidad_patentes_por_tipo.map(lambda x:(x[0][0],(x[0][1],x[1]))).\\\n",
    "        reduceByKey(lambda x,y:x if x[1]>y[1] else y).collect()#(tipo,(modelo y marca,cantidad))"
   ]
  },
  {
   "cell_type": "code",
   "execution_count": null,
   "metadata": {},
   "outputs": [],
   "source": []
  }
 ],
 "metadata": {
  "kernelspec": {
   "display_name": "Python 3",
   "language": "python",
   "name": "python3"
  },
  "language_info": {
   "codemirror_mode": {
    "name": "ipython",
    "version": 3
   },
   "file_extension": ".py",
   "mimetype": "text/x-python",
   "name": "python",
   "nbconvert_exporter": "python",
   "pygments_lexer": "ipython3",
   "version": "3.8.3"
  }
 },
 "nbformat": 4,
 "nbformat_minor": 4
}
