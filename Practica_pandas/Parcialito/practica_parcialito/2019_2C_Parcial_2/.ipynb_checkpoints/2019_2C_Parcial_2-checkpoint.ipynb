{
 "cells": [
  {
   "cell_type": "code",
   "execution_count": 1,
   "metadata": {},
   "outputs": [],
   "source": [
    "import pandas as pd\n",
    "import datetime as dt"
   ]
  },
  {
   "cell_type": "code",
   "execution_count": 2,
   "metadata": {},
   "outputs": [],
   "source": [
    "ventas = pd.read_csv(\"Ventas.csv\")\n",
    "productos = pd.read_csv(\"Productos.csv\")"
   ]
  },
  {
   "cell_type": "code",
   "execution_count": 3,
   "metadata": {},
   "outputs": [
    {
     "data": {
      "text/html": [
       "<div>\n",
       "<style scoped>\n",
       "    .dataframe tbody tr th:only-of-type {\n",
       "        vertical-align: middle;\n",
       "    }\n",
       "\n",
       "    .dataframe tbody tr th {\n",
       "        vertical-align: top;\n",
       "    }\n",
       "\n",
       "    .dataframe thead th {\n",
       "        text-align: right;\n",
       "    }\n",
       "</style>\n",
       "<table border=\"1\" class=\"dataframe\">\n",
       "  <thead>\n",
       "    <tr style=\"text-align: right;\">\n",
       "      <th></th>\n",
       "      <th>Código Producto</th>\n",
       "      <th>Cantidad total de producto vendido</th>\n",
       "      <th>Descripcion</th>\n",
       "    </tr>\n",
       "  </thead>\n",
       "  <tbody>\n",
       "    <tr>\n",
       "      <th>0</th>\n",
       "      <td>0</td>\n",
       "      <td>710</td>\n",
       "      <td>Rosabelle</td>\n",
       "    </tr>\n",
       "    <tr>\n",
       "      <th>1</th>\n",
       "      <td>8</td>\n",
       "      <td>1502</td>\n",
       "      <td>NaN</td>\n",
       "    </tr>\n",
       "    <tr>\n",
       "      <th>2</th>\n",
       "      <td>10</td>\n",
       "      <td>851</td>\n",
       "      <td>Gisela</td>\n",
       "    </tr>\n",
       "    <tr>\n",
       "      <th>3</th>\n",
       "      <td>10</td>\n",
       "      <td>851</td>\n",
       "      <td>Doralynne</td>\n",
       "    </tr>\n",
       "    <tr>\n",
       "      <th>4</th>\n",
       "      <td>14</td>\n",
       "      <td>701</td>\n",
       "      <td>NaN</td>\n",
       "    </tr>\n",
       "    <tr>\n",
       "      <th>...</th>\n",
       "      <td>...</td>\n",
       "      <td>...</td>\n",
       "      <td>...</td>\n",
       "    </tr>\n",
       "    <tr>\n",
       "      <th>341</th>\n",
       "      <td>977</td>\n",
       "      <td>277</td>\n",
       "      <td>NaN</td>\n",
       "    </tr>\n",
       "    <tr>\n",
       "      <th>342</th>\n",
       "      <td>980</td>\n",
       "      <td>459</td>\n",
       "      <td>Nollie</td>\n",
       "    </tr>\n",
       "    <tr>\n",
       "      <th>343</th>\n",
       "      <td>987</td>\n",
       "      <td>252</td>\n",
       "      <td>Allis</td>\n",
       "    </tr>\n",
       "    <tr>\n",
       "      <th>344</th>\n",
       "      <td>989</td>\n",
       "      <td>25</td>\n",
       "      <td>NaN</td>\n",
       "    </tr>\n",
       "    <tr>\n",
       "      <th>345</th>\n",
       "      <td>992</td>\n",
       "      <td>37</td>\n",
       "      <td>NaN</td>\n",
       "    </tr>\n",
       "  </tbody>\n",
       "</table>\n",
       "<p>346 rows × 3 columns</p>\n",
       "</div>"
      ],
      "text/plain": [
       "     Código Producto  Cantidad total de producto vendido Descripcion\n",
       "0                  0                                 710   Rosabelle\n",
       "1                  8                                1502         NaN\n",
       "2                 10                                 851      Gisela\n",
       "3                 10                                 851   Doralynne\n",
       "4                 14                                 701         NaN\n",
       "..               ...                                 ...         ...\n",
       "341              977                                 277         NaN\n",
       "342              980                                 459      Nollie\n",
       "343              987                                 252       Allis\n",
       "344              989                                  25         NaN\n",
       "345              992                                  37         NaN\n",
       "\n",
       "[346 rows x 3 columns]"
      ]
     },
     "execution_count": 3,
     "metadata": {},
     "output_type": "execute_result"
    }
   ],
   "source": [
    "#A\n",
    "ventas[\"fecha\"] = pd.to_datetime(ventas[\"fecha\"], errors = \"coerce\")\n",
    "productos_vendidos_2018 = ventas[ventas[\"fecha\"].dt.year==2018]\\\n",
    "            [[\"Código Producto\", \"Cantidad\"]]\n",
    "cantidades_totales_2018 = productos_vendidos_2018.\\\n",
    "            groupby(\"Código Producto\").agg({\"Cantidad\":\"sum\"})\n",
    "cantidades_totales_2018.columns=[\"Cantidad total de producto vendido\"]\n",
    "cantidades_totales_2018 = cantidades_totales_2018.\\\n",
    "        merge(productos[[\"Código Producto\", \"Descripcion\"]], \\\n",
    "        on=\"Código Producto\", how=\"left\")\n",
    "cantidades_totales_2018"
   ]
  },
  {
   "cell_type": "code",
   "execution_count": 7,
   "metadata": {},
   "outputs": [
    {
     "data": {
      "text/plain": [
       "Categoria       Código Producto\n",
       "no_smartphone1  286                19\n",
       "                289                21\n",
       "                289                21\n",
       "no_smartphone2  277                40\n",
       "                217                43\n",
       "                150                59\n",
       "no_smartphone3  613                13\n",
       "                620                15\n",
       "                378                45\n",
       "smartphone      649                20\n",
       "                289                21\n",
       "                777                33\n",
       "Name: Cantidad, dtype: int64"
      ]
     },
     "execution_count": 7,
     "metadata": {},
     "output_type": "execute_result"
    }
   ],
   "source": [
    "#B\n",
    "ventas_por_producto =ventas.groupby(\"Código Producto\").agg({\"Cantidad\":\"sum\"})\n",
    "ventas_por_producto_y_categoria = productos[[\"Código Producto\", \"Categoria\"]].merge(ventas_por_producto, on = \"Código Producto\", how = \"inner\")\n",
    "ventas_por_producto_y_categoria.set_index(\"Código Producto\", inplace=True)\n",
    "ventas_por_producto_y_categoria.groupby(\"Categoria\")[\"Cantidad\"].nsmallest(3, keep=\"all\")"
   ]
  },
  {
   "cell_type": "code",
   "execution_count": null,
   "metadata": {},
   "outputs": [],
   "source": []
  }
 ],
 "metadata": {
  "kernelspec": {
   "display_name": "Python 3",
   "language": "python",
   "name": "python3"
  },
  "language_info": {
   "codemirror_mode": {
    "name": "ipython",
    "version": 3
   },
   "file_extension": ".py",
   "mimetype": "text/x-python",
   "name": "python",
   "nbconvert_exporter": "python",
   "pygments_lexer": "ipython3",
   "version": "3.8.3"
  }
 },
 "nbformat": 4,
 "nbformat_minor": 4
}
